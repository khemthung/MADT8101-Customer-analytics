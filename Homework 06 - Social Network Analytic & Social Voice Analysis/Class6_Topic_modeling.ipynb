{
  "nbformat": 4,
  "nbformat_minor": 0,
  "metadata": {
    "colab": {
      "provenance": [],
      "collapsed_sections": [
        "SR6lZHPzBhis",
        "bh0oWsGzLXRD"
      ],
      "authorship_tag": "ABX9TyNrxCNad8N5IMFEPtRdz1zM",
      "include_colab_link": true
    },
    "kernelspec": {
      "name": "python3",
      "display_name": "Python 3"
    },
    "language_info": {
      "name": "python"
    }
  },
  "cells": [
    {
      "cell_type": "markdown",
      "metadata": {
        "id": "view-in-github",
        "colab_type": "text"
      },
      "source": [
        "<a href=\"https://colab.research.google.com/github/khemthung/MADT8101-Customer-analytics/blob/main/Class6_Topic_modeling.ipynb\" target=\"_parent\"><img src=\"https://colab.research.google.com/assets/colab-badge.svg\" alt=\"Open In Colab\"/></a>"
      ]
    },
    {
      "cell_type": "markdown",
      "source": [
        "# Topics Modeling with LDA"
      ],
      "metadata": {
        "id": "kXWjKcC-q5X_"
      }
    },
    {
      "cell_type": "code",
      "execution_count": 1,
      "metadata": {
        "colab": {
          "base_uri": "https://localhost:8080/"
        },
        "id": "cmEFCf7AVyrK",
        "outputId": "5a94c205-fa89-4a76-fd79-dd676793a23a"
      },
      "outputs": [
        {
          "output_type": "stream",
          "name": "stdout",
          "text": [
            "Requirement already satisfied: pythainlp in /usr/local/lib/python3.10/dist-packages (4.0.2)\n",
            "Requirement already satisfied: requests>=2.22.0 in /usr/local/lib/python3.10/dist-packages (from pythainlp) (2.31.0)\n",
            "Requirement already satisfied: charset-normalizer<4,>=2 in /usr/local/lib/python3.10/dist-packages (from requests>=2.22.0->pythainlp) (3.2.0)\n",
            "Requirement already satisfied: idna<4,>=2.5 in /usr/local/lib/python3.10/dist-packages (from requests>=2.22.0->pythainlp) (3.4)\n",
            "Requirement already satisfied: urllib3<3,>=1.21.1 in /usr/local/lib/python3.10/dist-packages (from requests>=2.22.0->pythainlp) (2.0.4)\n",
            "Requirement already satisfied: certifi>=2017.4.17 in /usr/local/lib/python3.10/dist-packages (from requests>=2.22.0->pythainlp) (2023.7.22)\n",
            "Requirement already satisfied: pyLDAvis in /usr/local/lib/python3.10/dist-packages (3.4.1)\n",
            "Requirement already satisfied: numpy>=1.24.2 in /usr/local/lib/python3.10/dist-packages (from pyLDAvis) (1.25.2)\n",
            "Requirement already satisfied: scipy in /usr/local/lib/python3.10/dist-packages (from pyLDAvis) (1.10.1)\n",
            "Requirement already satisfied: pandas>=2.0.0 in /usr/local/lib/python3.10/dist-packages (from pyLDAvis) (2.0.3)\n",
            "Requirement already satisfied: joblib>=1.2.0 in /usr/local/lib/python3.10/dist-packages (from pyLDAvis) (1.3.2)\n",
            "Requirement already satisfied: jinja2 in /usr/local/lib/python3.10/dist-packages (from pyLDAvis) (3.1.2)\n",
            "Requirement already satisfied: numexpr in /usr/local/lib/python3.10/dist-packages (from pyLDAvis) (2.8.5)\n",
            "Requirement already satisfied: funcy in /usr/local/lib/python3.10/dist-packages (from pyLDAvis) (2.0)\n",
            "Requirement already satisfied: scikit-learn>=1.0.0 in /usr/local/lib/python3.10/dist-packages (from pyLDAvis) (1.2.2)\n",
            "Requirement already satisfied: gensim in /usr/local/lib/python3.10/dist-packages (from pyLDAvis) (4.3.1)\n",
            "Requirement already satisfied: setuptools in /usr/local/lib/python3.10/dist-packages (from pyLDAvis) (67.7.2)\n",
            "Requirement already satisfied: python-dateutil>=2.8.2 in /usr/local/lib/python3.10/dist-packages (from pandas>=2.0.0->pyLDAvis) (2.8.2)\n",
            "Requirement already satisfied: pytz>=2020.1 in /usr/local/lib/python3.10/dist-packages (from pandas>=2.0.0->pyLDAvis) (2023.3)\n",
            "Requirement already satisfied: tzdata>=2022.1 in /usr/local/lib/python3.10/dist-packages (from pandas>=2.0.0->pyLDAvis) (2023.3)\n",
            "Requirement already satisfied: threadpoolctl>=2.0.0 in /usr/local/lib/python3.10/dist-packages (from scikit-learn>=1.0.0->pyLDAvis) (3.2.0)\n",
            "Requirement already satisfied: smart-open>=1.8.1 in /usr/local/lib/python3.10/dist-packages (from gensim->pyLDAvis) (6.3.0)\n",
            "Requirement already satisfied: MarkupSafe>=2.0 in /usr/local/lib/python3.10/dist-packages (from jinja2->pyLDAvis) (2.1.3)\n",
            "Requirement already satisfied: six>=1.5 in /usr/local/lib/python3.10/dist-packages (from python-dateutil>=2.8.2->pandas>=2.0.0->pyLDAvis) (1.16.0)\n"
          ]
        }
      ],
      "source": [
        "!pip install --upgrade pythainlp\n",
        "!pip install pyLDAvis"
      ]
    },
    {
      "cell_type": "code",
      "source": [
        "import pandas as pd\n",
        "import pythainlp\n",
        "import gensim # to create dict\n",
        "import pyLDAvis.gensim\n",
        "pyLDAvis.enable_notebook()\n",
        "import warnings\n",
        "warnings.filterwarnings(\"ignore\", category=DeprecationWarning)"
      ],
      "metadata": {
        "id": "TZdEIVDsrCLZ"
      },
      "execution_count": 2,
      "outputs": []
    },
    {
      "cell_type": "code",
      "source": [
        "# Geting file from github\n",
        "github_url = 'https://raw.githubusercontent.com/khemthung/MADT8101-Customer-analytics/main/Homework%2006%20-%20Social%20Network%20Analytic%20%26%20Social%20Voice%20Analysis/raw_data/wongnai_menya_Itto_bkk_s.csv'\n",
        "df = pd.read_csv(github_url)"
      ],
      "metadata": {
        "id": "9WgNzMbCCHW4"
      },
      "execution_count": 77,
      "outputs": []
    },
    {
      "cell_type": "code",
      "source": [
        "df.head()"
      ],
      "metadata": {
        "id": "4A8T8mTGHVP7",
        "colab": {
          "base_uri": "https://localhost:8080/",
          "height": 206
        },
        "outputId": "de901784-4bc3-4e09-a9ca-6d6627b5188b"
      },
      "execution_count": 76,
      "outputs": [
        {
          "output_type": "execute_result",
          "data": {
            "text/plain": [
              "   review_id                                             review  rating  \\\n",
              "0          1  No.1 from Tokyo\\nเมนูเด็ด: Chashu Noko Gyokai ...       4   \n",
              "1          2  สุดยอดราเมงร้านโปรดในไทย\\n\\nเมนูเส้นๆนี่เดลิเว...       5   \n",
              "2          3  ราเมงอันดับ1จากญี่ปุ่น\\nMenya Itto ร้านราเมงที...       4   \n",
              "3          4  เค็มนำ รสชาติแปลก เกี๊ยวซ่าดี ชาเขียวดีมีแมลงใ...       1   \n",
              "4          5  วันก่อนไปธุระที่เกษร ก็เลยแวะทานราเมนร้านดัง M...       4   \n",
              "\n",
              "             owner                                            og_link  type  \n",
              "0     Pia Patrisha  https://www.wongnai.com/reviews/003cb29b8fdc40...   NaN  \n",
              "1        HUNGRYJUG  https://www.wongnai.com/reviews/e6d227d281bf43...   NaN  \n",
              "2  Finedine_hunter  https://www.wongnai.com/reviews/8f7919c726e04f...   NaN  \n",
              "3          muJoyce  https://www.wongnai.com/reviews/d1d31098834f41...   NaN  \n",
              "4        Jazzyrain  https://www.wongnai.com/reviews/06afd4ef6ea94a...   NaN  "
            ],
            "text/html": [
              "\n",
              "  <div id=\"df-4756c1a3-4aad-48f9-b4ef-5bd5a6766618\" class=\"colab-df-container\">\n",
              "    <div>\n",
              "<style scoped>\n",
              "    .dataframe tbody tr th:only-of-type {\n",
              "        vertical-align: middle;\n",
              "    }\n",
              "\n",
              "    .dataframe tbody tr th {\n",
              "        vertical-align: top;\n",
              "    }\n",
              "\n",
              "    .dataframe thead th {\n",
              "        text-align: right;\n",
              "    }\n",
              "</style>\n",
              "<table border=\"1\" class=\"dataframe\">\n",
              "  <thead>\n",
              "    <tr style=\"text-align: right;\">\n",
              "      <th></th>\n",
              "      <th>review_id</th>\n",
              "      <th>review</th>\n",
              "      <th>rating</th>\n",
              "      <th>owner</th>\n",
              "      <th>og_link</th>\n",
              "      <th>type</th>\n",
              "    </tr>\n",
              "  </thead>\n",
              "  <tbody>\n",
              "    <tr>\n",
              "      <th>0</th>\n",
              "      <td>1</td>\n",
              "      <td>No.1 from Tokyo\\nเมนูเด็ด: Chashu Noko Gyokai ...</td>\n",
              "      <td>4</td>\n",
              "      <td>Pia Patrisha</td>\n",
              "      <td>https://www.wongnai.com/reviews/003cb29b8fdc40...</td>\n",
              "      <td>NaN</td>\n",
              "    </tr>\n",
              "    <tr>\n",
              "      <th>1</th>\n",
              "      <td>2</td>\n",
              "      <td>สุดยอดราเมงร้านโปรดในไทย\\n\\nเมนูเส้นๆนี่เดลิเว...</td>\n",
              "      <td>5</td>\n",
              "      <td>HUNGRYJUG</td>\n",
              "      <td>https://www.wongnai.com/reviews/e6d227d281bf43...</td>\n",
              "      <td>NaN</td>\n",
              "    </tr>\n",
              "    <tr>\n",
              "      <th>2</th>\n",
              "      <td>3</td>\n",
              "      <td>ราเมงอันดับ1จากญี่ปุ่น\\nMenya Itto ร้านราเมงที...</td>\n",
              "      <td>4</td>\n",
              "      <td>Finedine_hunter</td>\n",
              "      <td>https://www.wongnai.com/reviews/8f7919c726e04f...</td>\n",
              "      <td>NaN</td>\n",
              "    </tr>\n",
              "    <tr>\n",
              "      <th>3</th>\n",
              "      <td>4</td>\n",
              "      <td>เค็มนำ รสชาติแปลก เกี๊ยวซ่าดี ชาเขียวดีมีแมลงใ...</td>\n",
              "      <td>1</td>\n",
              "      <td>muJoyce</td>\n",
              "      <td>https://www.wongnai.com/reviews/d1d31098834f41...</td>\n",
              "      <td>NaN</td>\n",
              "    </tr>\n",
              "    <tr>\n",
              "      <th>4</th>\n",
              "      <td>5</td>\n",
              "      <td>วันก่อนไปธุระที่เกษร ก็เลยแวะทานราเมนร้านดัง M...</td>\n",
              "      <td>4</td>\n",
              "      <td>Jazzyrain</td>\n",
              "      <td>https://www.wongnai.com/reviews/06afd4ef6ea94a...</td>\n",
              "      <td>NaN</td>\n",
              "    </tr>\n",
              "  </tbody>\n",
              "</table>\n",
              "</div>\n",
              "    <div class=\"colab-df-buttons\">\n",
              "\n",
              "  <div class=\"colab-df-container\">\n",
              "    <button class=\"colab-df-convert\" onclick=\"convertToInteractive('df-4756c1a3-4aad-48f9-b4ef-5bd5a6766618')\"\n",
              "            title=\"Convert this dataframe to an interactive table.\"\n",
              "            style=\"display:none;\">\n",
              "\n",
              "  <svg xmlns=\"http://www.w3.org/2000/svg\" height=\"24px\" viewBox=\"0 -960 960 960\">\n",
              "    <path d=\"M120-120v-720h720v720H120Zm60-500h600v-160H180v160Zm220 220h160v-160H400v160Zm0 220h160v-160H400v160ZM180-400h160v-160H180v160Zm440 0h160v-160H620v160ZM180-180h160v-160H180v160Zm440 0h160v-160H620v160Z\"/>\n",
              "  </svg>\n",
              "    </button>\n",
              "\n",
              "  <style>\n",
              "    .colab-df-container {\n",
              "      display:flex;\n",
              "      gap: 12px;\n",
              "    }\n",
              "\n",
              "    .colab-df-convert {\n",
              "      background-color: #E8F0FE;\n",
              "      border: none;\n",
              "      border-radius: 50%;\n",
              "      cursor: pointer;\n",
              "      display: none;\n",
              "      fill: #1967D2;\n",
              "      height: 32px;\n",
              "      padding: 0 0 0 0;\n",
              "      width: 32px;\n",
              "    }\n",
              "\n",
              "    .colab-df-convert:hover {\n",
              "      background-color: #E2EBFA;\n",
              "      box-shadow: 0px 1px 2px rgba(60, 64, 67, 0.3), 0px 1px 3px 1px rgba(60, 64, 67, 0.15);\n",
              "      fill: #174EA6;\n",
              "    }\n",
              "\n",
              "    .colab-df-buttons div {\n",
              "      margin-bottom: 4px;\n",
              "    }\n",
              "\n",
              "    [theme=dark] .colab-df-convert {\n",
              "      background-color: #3B4455;\n",
              "      fill: #D2E3FC;\n",
              "    }\n",
              "\n",
              "    [theme=dark] .colab-df-convert:hover {\n",
              "      background-color: #434B5C;\n",
              "      box-shadow: 0px 1px 3px 1px rgba(0, 0, 0, 0.15);\n",
              "      filter: drop-shadow(0px 1px 2px rgba(0, 0, 0, 0.3));\n",
              "      fill: #FFFFFF;\n",
              "    }\n",
              "  </style>\n",
              "\n",
              "    <script>\n",
              "      const buttonEl =\n",
              "        document.querySelector('#df-4756c1a3-4aad-48f9-b4ef-5bd5a6766618 button.colab-df-convert');\n",
              "      buttonEl.style.display =\n",
              "        google.colab.kernel.accessAllowed ? 'block' : 'none';\n",
              "\n",
              "      async function convertToInteractive(key) {\n",
              "        const element = document.querySelector('#df-4756c1a3-4aad-48f9-b4ef-5bd5a6766618');\n",
              "        const dataTable =\n",
              "          await google.colab.kernel.invokeFunction('convertToInteractive',\n",
              "                                                    [key], {});\n",
              "        if (!dataTable) return;\n",
              "\n",
              "        const docLinkHtml = 'Like what you see? Visit the ' +\n",
              "          '<a target=\"_blank\" href=https://colab.research.google.com/notebooks/data_table.ipynb>data table notebook</a>'\n",
              "          + ' to learn more about interactive tables.';\n",
              "        element.innerHTML = '';\n",
              "        dataTable['output_type'] = 'display_data';\n",
              "        await google.colab.output.renderOutput(dataTable, element);\n",
              "        const docLink = document.createElement('div');\n",
              "        docLink.innerHTML = docLinkHtml;\n",
              "        element.appendChild(docLink);\n",
              "      }\n",
              "    </script>\n",
              "  </div>\n",
              "\n",
              "\n",
              "<div id=\"df-6e4136bb-5230-4bba-8ebb-85187316947f\">\n",
              "  <button class=\"colab-df-quickchart\" onclick=\"quickchart('df-6e4136bb-5230-4bba-8ebb-85187316947f')\"\n",
              "            title=\"Suggest charts.\"\n",
              "            style=\"display:none;\">\n",
              "\n",
              "<svg xmlns=\"http://www.w3.org/2000/svg\" height=\"24px\"viewBox=\"0 0 24 24\"\n",
              "     width=\"24px\">\n",
              "    <g>\n",
              "        <path d=\"M19 3H5c-1.1 0-2 .9-2 2v14c0 1.1.9 2 2 2h14c1.1 0 2-.9 2-2V5c0-1.1-.9-2-2-2zM9 17H7v-7h2v7zm4 0h-2V7h2v10zm4 0h-2v-4h2v4z\"/>\n",
              "    </g>\n",
              "</svg>\n",
              "  </button>\n",
              "\n",
              "<style>\n",
              "  .colab-df-quickchart {\n",
              "    background-color: #E8F0FE;\n",
              "    border: none;\n",
              "    border-radius: 50%;\n",
              "    cursor: pointer;\n",
              "    display: none;\n",
              "    fill: #1967D2;\n",
              "    height: 32px;\n",
              "    padding: 0 0 0 0;\n",
              "    width: 32px;\n",
              "  }\n",
              "\n",
              "  .colab-df-quickchart:hover {\n",
              "    background-color: #E2EBFA;\n",
              "    box-shadow: 0px 1px 2px rgba(60, 64, 67, 0.3), 0px 1px 3px 1px rgba(60, 64, 67, 0.15);\n",
              "    fill: #174EA6;\n",
              "  }\n",
              "\n",
              "  [theme=dark] .colab-df-quickchart {\n",
              "    background-color: #3B4455;\n",
              "    fill: #D2E3FC;\n",
              "  }\n",
              "\n",
              "  [theme=dark] .colab-df-quickchart:hover {\n",
              "    background-color: #434B5C;\n",
              "    box-shadow: 0px 1px 3px 1px rgba(0, 0, 0, 0.15);\n",
              "    filter: drop-shadow(0px 1px 2px rgba(0, 0, 0, 0.3));\n",
              "    fill: #FFFFFF;\n",
              "  }\n",
              "</style>\n",
              "\n",
              "  <script>\n",
              "    async function quickchart(key) {\n",
              "      const charts = await google.colab.kernel.invokeFunction(\n",
              "          'suggestCharts', [key], {});\n",
              "    }\n",
              "    (() => {\n",
              "      let quickchartButtonEl =\n",
              "        document.querySelector('#df-6e4136bb-5230-4bba-8ebb-85187316947f button');\n",
              "      quickchartButtonEl.style.display =\n",
              "        google.colab.kernel.accessAllowed ? 'block' : 'none';\n",
              "    })();\n",
              "  </script>\n",
              "</div>\n",
              "    </div>\n",
              "  </div>\n"
            ]
          },
          "metadata": {},
          "execution_count": 76
        }
      ]
    },
    {
      "cell_type": "markdown",
      "source": [
        "## Tokenize words with pythainlp\n",
        "- screening & removing words with **TF-IDF** (Term Frequency - Inverse Document Frequency)\n",
        "- adding custom word list to keep some context [source](https://pythainlp.github.io/docs/2.1/api/tokenize.html)"
      ],
      "metadata": {
        "id": "zf5HQsZiHaCi"
      }
    },
    {
      "cell_type": "markdown",
      "source": [
        "##### Check and adding custom dict to cut special KW"
      ],
      "metadata": {
        "id": "SR6lZHPzBhis"
      }
    },
    {
      "cell_type": "code",
      "source": [
        "stopwords = list(pythainlp.corpus.thai_stopwords())\n",
        "removed_words = [' ', '\\n', 'ร้าน', '(', ')','++','บาท','.','-',':','฿','‘', '’', '+','฿)','://', '=', '?','ต่อหัว']\n",
        "screening_words = stopwords + removed_words\n",
        "\n",
        "def tokenize_with_space(sentence) :\n",
        "  merged = ''\n",
        "  words = pythainlp.word_tokenize(str(sentence), engine='newmm')\n",
        "  for word in words:\n",
        "    if word not in screening_words:\n",
        "      merged = merged + ',' + word\n",
        "  return merged[1:]"
      ],
      "metadata": {
        "id": "QAomb_DqHf0X"
      },
      "execution_count": null,
      "outputs": []
    },
    {
      "cell_type": "code",
      "source": [
        "# test custom dict\n",
        "\n",
        "from pythainlp.corpus.common import thai_words\n",
        "#from pythainlp.tokenize import Trie, word_tokenize #change dict_trie --> Tier\n",
        "from pythainlp.tokenize import word_tokenize\n",
        "from pythainlp.util.trie import Trie, dict_trie"
      ],
      "metadata": {
        "id": "DZB40n3XzA1t"
      },
      "execution_count": null,
      "outputs": []
    },
    {
      "cell_type": "code",
      "source": [
        "#test japanese KW normal cut\n",
        "\n",
        "text = 'ราเมน อ่านว่าราเมง หรือราเมน มีชาชูแท้ๆมาจากโตเกียว อร่อยมาก'\n",
        "\n",
        "tokens_default = word_tokenize(text, engine=\"newmm\")\n",
        "\n",
        "tokens_default"
      ],
      "metadata": {
        "id": "OeSVhYIp0Ech",
        "colab": {
          "base_uri": "https://localhost:8080/"
        },
        "outputId": "ced11805-a1d9-4a27-afb6-7391f123b35d"
      },
      "execution_count": null,
      "outputs": [
        {
          "output_type": "execute_result",
          "data": {
            "text/plain": [
              "['ราเมน',\n",
              " ' ',\n",
              " 'อ่าน',\n",
              " 'ว่า',\n",
              " 'รา',\n",
              " 'เม',\n",
              " 'ง',\n",
              " ' ',\n",
              " 'หรือ',\n",
              " 'ราเมน',\n",
              " ' ',\n",
              " 'มี',\n",
              " 'ชา',\n",
              " 'ชู',\n",
              " 'แท้ๆ',\n",
              " 'มาจาก',\n",
              " 'โตเกียว',\n",
              " ' ',\n",
              " 'อร่อย',\n",
              " 'มาก']"
            ]
          },
          "metadata": {},
          "execution_count": 31
        }
      ]
    },
    {
      "cell_type": "code",
      "source": [
        "#test create custom dict\n",
        "\n",
        "custom_dict_japanese_name = set(thai_words())\n",
        "custom_dict_japanese_name.add('ราเมง')\n",
        "custom_dict_japanese_name.add('ชาชู')\n",
        "custom_dict_japanese_name.add('Tsukemen')\n",
        "custom_dict_japanese_name.add('โตเกียว')\n",
        "custom_dict_japanese_name.add('เกี๊ยวซ่า')\n",
        "custom_dict_japanese_name.add('สึเคเมง')\n",
        "\n",
        "trie = dict_trie(dict_source=custom_dict_japanese_name)\n",
        "word_tokenize(text, engine=\"newmm\", custom_dict=trie)"
      ],
      "metadata": {
        "id": "jtsRJXE4qlPa",
        "colab": {
          "base_uri": "https://localhost:8080/"
        },
        "outputId": "f5ca70be-5d31-4ecf-e1b6-9f9486940824"
      },
      "execution_count": null,
      "outputs": [
        {
          "output_type": "execute_result",
          "data": {
            "text/plain": [
              "['ราเมน',\n",
              " ' ',\n",
              " 'อ่าน',\n",
              " 'ว่า',\n",
              " 'ราเมง',\n",
              " ' ',\n",
              " 'หรือ',\n",
              " 'ราเมน',\n",
              " ' ',\n",
              " 'มี',\n",
              " 'ชาชู',\n",
              " 'แท้ๆ',\n",
              " 'มาจาก',\n",
              " 'โตเกียว',\n",
              " ' ',\n",
              " 'อร่อย',\n",
              " 'มาก']"
            ]
          },
          "metadata": {},
          "execution_count": 32
        }
      ]
    },
    {
      "cell_type": "markdown",
      "source": [
        "##### begin tokenize"
      ],
      "metadata": {
        "id": "scBM2vzYxPWr"
      }
    },
    {
      "cell_type": "code",
      "source": [
        "stopwords = list(pythainlp.corpus.thai_stopwords())\n",
        "removed_words = [' ','','\\n', 'ร้าน', '(', ')','++','บาท','.','-',':','฿','‘', '’', '+','฿)','://','/', '=', '?','ต่อหัว']\n",
        "screening_words = stopwords + removed_words\n",
        "\n",
        "# adding regx to clean more special char and numbers\n",
        "import re\n",
        "regex_patterns = [r'[0-9]'] #r'[^\\w\\s\\d]'\n",
        "\n",
        "# custom dict เพราะมี KW ที่ไม่อยากให้ตัดมัวอยู่เช่น 'ราเมง','สึเคเมง','ชาชู','Tsukemen','โตเกียว','เกี๊ยวซ่า'\n",
        "from pythainlp.corpus.common import thai_words\n",
        "from pythainlp.tokenize import word_tokenize\n",
        "from pythainlp.util.trie import Trie, dict_trie\n",
        "\n",
        "custom_dict_japanese_name = set(thai_words())\n",
        "custom_dict_japanese_name.add('ราเมง')\n",
        "custom_dict_japanese_name.add('ชาชู')\n",
        "custom_dict_japanese_name.add('Tsukemen')\n",
        "custom_dict_japanese_name.add('โตเกียว')\n",
        "custom_dict_japanese_name.add('Tokyo')\n",
        "custom_dict_japanese_name.add('เกี๊ยวซ่า')\n",
        "custom_dict_japanese_name.add('สึเคเมง')\n",
        "custom_dict_japanese_name.add('Gaysorn tower')\n",
        "\n",
        "trie = dict_trie(dict_source=custom_dict_japanese_name)\n",
        "\n",
        "\n",
        "def tokenize_with_space(sentence):\n",
        "    merged = ''\n",
        "    words = pythainlp.word_tokenize(sentence, engine='newmm', custom_dict=trie) #, custom_dict=trie) #multi_cut, deepcut\n",
        "    for word in words:\n",
        "        if  word not in screening_words and not any(re.search(pattern, word) for pattern in regex_patterns):\n",
        "            merged = merged + ',' + word\n",
        "    return merged[1:]"
      ],
      "metadata": {
        "id": "tCzG8HyPoSt6"
      },
      "execution_count": 52,
      "outputs": []
    },
    {
      "cell_type": "code",
      "source": [
        "df['review_tokenized'] = df['review'].apply(lambda x: tokenize_with_space(x))"
      ],
      "metadata": {
        "id": "AmFjRXUIMBXa"
      },
      "execution_count": 53,
      "outputs": []
    },
    {
      "cell_type": "code",
      "source": [
        "df_tk = df[['review_id', 'review','review_tokenized']]"
      ],
      "metadata": {
        "id": "twp4Ma9sOOIG"
      },
      "execution_count": 54,
      "outputs": []
    },
    {
      "cell_type": "code",
      "source": [
        "df_tk.head(10)"
      ],
      "metadata": {
        "colab": {
          "base_uri": "https://localhost:8080/",
          "height": 363
        },
        "id": "H7DdNaHsMi_f",
        "outputId": "c6efe976-8030-421a-c371-400be478a1fa"
      },
      "execution_count": 55,
      "outputs": [
        {
          "output_type": "execute_result",
          "data": {
            "text/plain": [
              "   review_id                                             review  \\\n",
              "0          1  No.1 from Tokyo\\nเมนูเด็ด: Chashu Noko Gyokai ...   \n",
              "1          2  สุดยอดราเมงร้านโปรดในไทย\\n\\nเมนูเส้นๆนี่เดลิเว...   \n",
              "2          3  ราเมงอันดับ1จากญี่ปุ่น\\nMenya Itto ร้านราเมงที...   \n",
              "3          4  เค็มนำ รสชาติแปลก เกี๊ยวซ่าดี ชาเขียวดีมีแมลงใ...   \n",
              "4          5  วันก่อนไปธุระที่เกษร ก็เลยแวะทานราเมนร้านดัง M...   \n",
              "5          6  The Best Tsukemen in Bangkok (พค 2022 ย้ายมา G...   \n",
              "6          7  หนึ่งในร้านราเมนที่คนรักราเมนคิดถึง โดยเฉพาะ ส...   \n",
              "7          8  ราเมนร้านดังจากโตเกียว\\n\\nจำได้ว่าตอนร้านเปิดใ...   \n",
              "8          9  \\nได้ยินชื่อเสียงของราเมนร้านนี้จากหลายๆท่านใน...   \n",
              "9         10  คิวยังยาวอยู่มั้ยคะ เห็นคิวเยอะคนรอนานมาก กลัว...   \n",
              "\n",
              "                                    review_tokenized  \n",
              "0  No,from,Tokyo,เมนู,เด็ด,Chashu,Noko,Gyokai,Ram...  \n",
              "1  สุดยอด,ราเมง,โปรด,ไทย,เมนู,เส้น,เด,ลิ,เวอ,รี่,...  \n",
              "2  ราเมง,อันดับ,ญี่ปุ่น,Menya,Itto,ราเมง,อันดับ,เ...  \n",
              "3  เค็ม,รสชาติ,แปลก,เกี๊ยวซ่า,ดี,ชาเขียว,ดี,แมลง,...  \n",
              "4  วันก่อน,ธุระ,เก,ษร,แวะ,ทาน,ราเมน,Menya,Itto,สา...  \n",
              "5  The,Best,Tsukemen,in,Bangkok,(พค,ย้าย,Gaysorn,...  \n",
              "6  ราเมน,คนรัก,ราเมน,คิดถึง,โดยเฉพาะ,สึ,เค,เมน,แถ...  \n",
              "7  ราเมน,โตเกียว,จำได้,ตอน,รอ,คิว,เมนู,signature,...  \n",
              "8  ได้ยิน,ชื่อเสียง,ราเมน,ท่าน,วงใน,อันดับ,เว็บ,t...  \n",
              "9                         คิว,คิว,คน,รอ,กลัว,รอ,เก,อ  "
            ],
            "text/html": [
              "\n",
              "  <div id=\"df-d239183a-9f6e-4481-ad9f-e80173230f87\" class=\"colab-df-container\">\n",
              "    <div>\n",
              "<style scoped>\n",
              "    .dataframe tbody tr th:only-of-type {\n",
              "        vertical-align: middle;\n",
              "    }\n",
              "\n",
              "    .dataframe tbody tr th {\n",
              "        vertical-align: top;\n",
              "    }\n",
              "\n",
              "    .dataframe thead th {\n",
              "        text-align: right;\n",
              "    }\n",
              "</style>\n",
              "<table border=\"1\" class=\"dataframe\">\n",
              "  <thead>\n",
              "    <tr style=\"text-align: right;\">\n",
              "      <th></th>\n",
              "      <th>review_id</th>\n",
              "      <th>review</th>\n",
              "      <th>review_tokenized</th>\n",
              "    </tr>\n",
              "  </thead>\n",
              "  <tbody>\n",
              "    <tr>\n",
              "      <th>0</th>\n",
              "      <td>1</td>\n",
              "      <td>No.1 from Tokyo\\nเมนูเด็ด: Chashu Noko Gyokai ...</td>\n",
              "      <td>No,from,Tokyo,เมนู,เด็ด,Chashu,Noko,Gyokai,Ram...</td>\n",
              "    </tr>\n",
              "    <tr>\n",
              "      <th>1</th>\n",
              "      <td>2</td>\n",
              "      <td>สุดยอดราเมงร้านโปรดในไทย\\n\\nเมนูเส้นๆนี่เดลิเว...</td>\n",
              "      <td>สุดยอด,ราเมง,โปรด,ไทย,เมนู,เส้น,เด,ลิ,เวอ,รี่,...</td>\n",
              "    </tr>\n",
              "    <tr>\n",
              "      <th>2</th>\n",
              "      <td>3</td>\n",
              "      <td>ราเมงอันดับ1จากญี่ปุ่น\\nMenya Itto ร้านราเมงที...</td>\n",
              "      <td>ราเมง,อันดับ,ญี่ปุ่น,Menya,Itto,ราเมง,อันดับ,เ...</td>\n",
              "    </tr>\n",
              "    <tr>\n",
              "      <th>3</th>\n",
              "      <td>4</td>\n",
              "      <td>เค็มนำ รสชาติแปลก เกี๊ยวซ่าดี ชาเขียวดีมีแมลงใ...</td>\n",
              "      <td>เค็ม,รสชาติ,แปลก,เกี๊ยวซ่า,ดี,ชาเขียว,ดี,แมลง,...</td>\n",
              "    </tr>\n",
              "    <tr>\n",
              "      <th>4</th>\n",
              "      <td>5</td>\n",
              "      <td>วันก่อนไปธุระที่เกษร ก็เลยแวะทานราเมนร้านดัง M...</td>\n",
              "      <td>วันก่อน,ธุระ,เก,ษร,แวะ,ทาน,ราเมน,Menya,Itto,สา...</td>\n",
              "    </tr>\n",
              "    <tr>\n",
              "      <th>5</th>\n",
              "      <td>6</td>\n",
              "      <td>The Best Tsukemen in Bangkok (พค 2022 ย้ายมา G...</td>\n",
              "      <td>The,Best,Tsukemen,in,Bangkok,(พค,ย้าย,Gaysorn,...</td>\n",
              "    </tr>\n",
              "    <tr>\n",
              "      <th>6</th>\n",
              "      <td>7</td>\n",
              "      <td>หนึ่งในร้านราเมนที่คนรักราเมนคิดถึง โดยเฉพาะ ส...</td>\n",
              "      <td>ราเมน,คนรัก,ราเมน,คิดถึง,โดยเฉพาะ,สึ,เค,เมน,แถ...</td>\n",
              "    </tr>\n",
              "    <tr>\n",
              "      <th>7</th>\n",
              "      <td>8</td>\n",
              "      <td>ราเมนร้านดังจากโตเกียว\\n\\nจำได้ว่าตอนร้านเปิดใ...</td>\n",
              "      <td>ราเมน,โตเกียว,จำได้,ตอน,รอ,คิว,เมนู,signature,...</td>\n",
              "    </tr>\n",
              "    <tr>\n",
              "      <th>8</th>\n",
              "      <td>9</td>\n",
              "      <td>\\nได้ยินชื่อเสียงของราเมนร้านนี้จากหลายๆท่านใน...</td>\n",
              "      <td>ได้ยิน,ชื่อเสียง,ราเมน,ท่าน,วงใน,อันดับ,เว็บ,t...</td>\n",
              "    </tr>\n",
              "    <tr>\n",
              "      <th>9</th>\n",
              "      <td>10</td>\n",
              "      <td>คิวยังยาวอยู่มั้ยคะ เห็นคิวเยอะคนรอนานมาก กลัว...</td>\n",
              "      <td>คิว,คิว,คน,รอ,กลัว,รอ,เก,อ</td>\n",
              "    </tr>\n",
              "  </tbody>\n",
              "</table>\n",
              "</div>\n",
              "    <div class=\"colab-df-buttons\">\n",
              "\n",
              "  <div class=\"colab-df-container\">\n",
              "    <button class=\"colab-df-convert\" onclick=\"convertToInteractive('df-d239183a-9f6e-4481-ad9f-e80173230f87')\"\n",
              "            title=\"Convert this dataframe to an interactive table.\"\n",
              "            style=\"display:none;\">\n",
              "\n",
              "  <svg xmlns=\"http://www.w3.org/2000/svg\" height=\"24px\" viewBox=\"0 -960 960 960\">\n",
              "    <path d=\"M120-120v-720h720v720H120Zm60-500h600v-160H180v160Zm220 220h160v-160H400v160Zm0 220h160v-160H400v160ZM180-400h160v-160H180v160Zm440 0h160v-160H620v160ZM180-180h160v-160H180v160Zm440 0h160v-160H620v160Z\"/>\n",
              "  </svg>\n",
              "    </button>\n",
              "\n",
              "  <style>\n",
              "    .colab-df-container {\n",
              "      display:flex;\n",
              "      gap: 12px;\n",
              "    }\n",
              "\n",
              "    .colab-df-convert {\n",
              "      background-color: #E8F0FE;\n",
              "      border: none;\n",
              "      border-radius: 50%;\n",
              "      cursor: pointer;\n",
              "      display: none;\n",
              "      fill: #1967D2;\n",
              "      height: 32px;\n",
              "      padding: 0 0 0 0;\n",
              "      width: 32px;\n",
              "    }\n",
              "\n",
              "    .colab-df-convert:hover {\n",
              "      background-color: #E2EBFA;\n",
              "      box-shadow: 0px 1px 2px rgba(60, 64, 67, 0.3), 0px 1px 3px 1px rgba(60, 64, 67, 0.15);\n",
              "      fill: #174EA6;\n",
              "    }\n",
              "\n",
              "    .colab-df-buttons div {\n",
              "      margin-bottom: 4px;\n",
              "    }\n",
              "\n",
              "    [theme=dark] .colab-df-convert {\n",
              "      background-color: #3B4455;\n",
              "      fill: #D2E3FC;\n",
              "    }\n",
              "\n",
              "    [theme=dark] .colab-df-convert:hover {\n",
              "      background-color: #434B5C;\n",
              "      box-shadow: 0px 1px 3px 1px rgba(0, 0, 0, 0.15);\n",
              "      filter: drop-shadow(0px 1px 2px rgba(0, 0, 0, 0.3));\n",
              "      fill: #FFFFFF;\n",
              "    }\n",
              "  </style>\n",
              "\n",
              "    <script>\n",
              "      const buttonEl =\n",
              "        document.querySelector('#df-d239183a-9f6e-4481-ad9f-e80173230f87 button.colab-df-convert');\n",
              "      buttonEl.style.display =\n",
              "        google.colab.kernel.accessAllowed ? 'block' : 'none';\n",
              "\n",
              "      async function convertToInteractive(key) {\n",
              "        const element = document.querySelector('#df-d239183a-9f6e-4481-ad9f-e80173230f87');\n",
              "        const dataTable =\n",
              "          await google.colab.kernel.invokeFunction('convertToInteractive',\n",
              "                                                    [key], {});\n",
              "        if (!dataTable) return;\n",
              "\n",
              "        const docLinkHtml = 'Like what you see? Visit the ' +\n",
              "          '<a target=\"_blank\" href=https://colab.research.google.com/notebooks/data_table.ipynb>data table notebook</a>'\n",
              "          + ' to learn more about interactive tables.';\n",
              "        element.innerHTML = '';\n",
              "        dataTable['output_type'] = 'display_data';\n",
              "        await google.colab.output.renderOutput(dataTable, element);\n",
              "        const docLink = document.createElement('div');\n",
              "        docLink.innerHTML = docLinkHtml;\n",
              "        element.appendChild(docLink);\n",
              "      }\n",
              "    </script>\n",
              "  </div>\n",
              "\n",
              "\n",
              "<div id=\"df-e312d1df-1bd8-4ecd-84ae-35a54a50a7ef\">\n",
              "  <button class=\"colab-df-quickchart\" onclick=\"quickchart('df-e312d1df-1bd8-4ecd-84ae-35a54a50a7ef')\"\n",
              "            title=\"Suggest charts.\"\n",
              "            style=\"display:none;\">\n",
              "\n",
              "<svg xmlns=\"http://www.w3.org/2000/svg\" height=\"24px\"viewBox=\"0 0 24 24\"\n",
              "     width=\"24px\">\n",
              "    <g>\n",
              "        <path d=\"M19 3H5c-1.1 0-2 .9-2 2v14c0 1.1.9 2 2 2h14c1.1 0 2-.9 2-2V5c0-1.1-.9-2-2-2zM9 17H7v-7h2v7zm4 0h-2V7h2v10zm4 0h-2v-4h2v4z\"/>\n",
              "    </g>\n",
              "</svg>\n",
              "  </button>\n",
              "\n",
              "<style>\n",
              "  .colab-df-quickchart {\n",
              "    background-color: #E8F0FE;\n",
              "    border: none;\n",
              "    border-radius: 50%;\n",
              "    cursor: pointer;\n",
              "    display: none;\n",
              "    fill: #1967D2;\n",
              "    height: 32px;\n",
              "    padding: 0 0 0 0;\n",
              "    width: 32px;\n",
              "  }\n",
              "\n",
              "  .colab-df-quickchart:hover {\n",
              "    background-color: #E2EBFA;\n",
              "    box-shadow: 0px 1px 2px rgba(60, 64, 67, 0.3), 0px 1px 3px 1px rgba(60, 64, 67, 0.15);\n",
              "    fill: #174EA6;\n",
              "  }\n",
              "\n",
              "  [theme=dark] .colab-df-quickchart {\n",
              "    background-color: #3B4455;\n",
              "    fill: #D2E3FC;\n",
              "  }\n",
              "\n",
              "  [theme=dark] .colab-df-quickchart:hover {\n",
              "    background-color: #434B5C;\n",
              "    box-shadow: 0px 1px 3px 1px rgba(0, 0, 0, 0.15);\n",
              "    filter: drop-shadow(0px 1px 2px rgba(0, 0, 0, 0.3));\n",
              "    fill: #FFFFFF;\n",
              "  }\n",
              "</style>\n",
              "\n",
              "  <script>\n",
              "    async function quickchart(key) {\n",
              "      const charts = await google.colab.kernel.invokeFunction(\n",
              "          'suggestCharts', [key], {});\n",
              "    }\n",
              "    (() => {\n",
              "      let quickchartButtonEl =\n",
              "        document.querySelector('#df-e312d1df-1bd8-4ecd-84ae-35a54a50a7ef button');\n",
              "      quickchartButtonEl.style.display =\n",
              "        google.colab.kernel.accessAllowed ? 'block' : 'none';\n",
              "    })();\n",
              "  </script>\n",
              "</div>\n",
              "    </div>\n",
              "  </div>\n"
            ]
          },
          "metadata": {},
          "execution_count": 55
        }
      ]
    },
    {
      "cell_type": "markdown",
      "source": [
        "##### Check stopwords list & tokenized words"
      ],
      "metadata": {
        "id": "bh0oWsGzLXRD"
      }
    },
    {
      "cell_type": "code",
      "source": [
        "len(stopwords)"
      ],
      "metadata": {
        "colab": {
          "base_uri": "https://localhost:8080/"
        },
        "id": "uuzLqLlxJ02l",
        "outputId": "b84bbb99-15f5-4702-9b2a-b432d17992a9"
      },
      "execution_count": 9,
      "outputs": [
        {
          "output_type": "execute_result",
          "data": {
            "text/plain": [
              "1030"
            ]
          },
          "metadata": {},
          "execution_count": 9
        }
      ]
    },
    {
      "cell_type": "code",
      "source": [
        "df_sw = pd.DataFrame(stopwords, columns=['KW'])"
      ],
      "metadata": {
        "id": "XCWVrLaGJ0oq"
      },
      "execution_count": null,
      "outputs": []
    },
    {
      "cell_type": "code",
      "source": [
        "# export for check tokenize\n",
        "# df_tk.to_csv('work_tokenized.csv', index=False, encoding='utf-8')\n",
        "df_sw.to_excel('stop_word.xlsx', index=False)\n",
        "df_tk.to_excel('work_tokenized.xlsx', index=False)"
      ],
      "metadata": {
        "id": "K5TRpia-C4cc"
      },
      "execution_count": null,
      "outputs": []
    },
    {
      "cell_type": "markdown",
      "source": [
        "## Create Dictionary\n",
        "- check bag of words"
      ],
      "metadata": {
        "id": "j6AwAc_aO-bl"
      }
    },
    {
      "cell_type": "code",
      "source": [
        "documents = df_tk['review_tokenized'].to_list()\n",
        "texts = [[text for text in doc.split(',')] for doc in documents] # for loop แบบย่อ\n",
        "dictionary = gensim.corpora.Dictionary(texts)"
      ],
      "metadata": {
        "id": "66iQk248P3q1"
      },
      "execution_count": 56,
      "outputs": []
    },
    {
      "cell_type": "code",
      "source": [
        "print(dictionary.token2id.keys())"
      ],
      "metadata": {
        "colab": {
          "base_uri": "https://localhost:8080/"
        },
        "id": "62dgh7f_V1LH",
        "outputId": "cc7e7815-5665-4edd-edb7-638ab12d2752"
      },
      "execution_count": 57,
      "outputs": [
        {
          "output_type": "stream",
          "name": "stdout",
          "text": [
            "dict_keys(['', 'Chashu', 'Gaysorn', 'Gyokai', 'No', 'Noko', 'Ramen', 'Shio', 'Tokyo', 'Village', 'from', 'juicey', 'ramen', 'กรอบ', 'กลมกล่อม', 'กัด', 'ข้น', 'คน', 'คอ', 'ชั้น', 'ชาชู', 'ชิ้น', 'ซิก', 'ซี', 'ซุป', 'ดี', 'ด้านนอก', 'ด้านใน', 'ตั้งอยู่', 'น้ำ', 'ฟู้ด', 'มาจาก', 'รสชาติ', 'สม', 'สอง', 'สัน', 'สั่ง', 'สาหร่าย', 'หน่อไม้', 'หมู', 'หมูสามชั้น', 'หลง', 'ห้าง', 'อกไก่', 'อร่อย', 'เกี๊ยวซ่า', 'เข้าไป', 'เคี่ยว', 'เจอร์', 'เด็ด', 'เปา', 'เมนู', 'เสิร์ฟ', 'เสี่ยว', 'แป้ง', 'แผ่น', 'แรงบันดาลใจ', 'ไก่', '\"', 'B', 'Itto', 'Koiwa', 'Shin', 'Tsukemen', 'tsukemen', 'wadashi', 'กลิ่น', 'กิน', 'กินเส้น', 'กุ้ง', 'คะแนน', 'คิดถึง', 'คิว', 'จมูกข้าว', 'จิ้ม', 'จุ่ม', 'ชิม', 'ซด', 'ซากุระ', 'ซึเคะ', 'ซู', 'ญี่ปุ่น', 'ดีจริง', 'ตอน', 'ติดใจ', 'ทะเล', 'ทำ', 'ทีเด็ด', 'นุ่ม', 'ปลา', 'ปิดท้าย', 'ผสม', 'มาตรฐาน', 'ย่าน', 'รส', 'รอ', 'ราเมง', 'รีบ', 'รี่', 'รู้จัก', 'ร้อน', 'ลด', 'ลิ', 'วาย', 'วี', 'สาขา', 'สำนัก', 'สุดยอด', 'สูด', 'หนัก', 'หนึบ', 'หอย', 'หาย', 'อยู่แล้ว', '฿++', 'เข้มข้น', 'เครื่อง', 'เค้า', 'เชลล์', 'เด', 'เดี๋ยว', 'เด้ง', 'เติม', 'เม็ง', 'เรื่อง', 'เลิศ', 'เวอ', 'เส้น', 'เส้นใหญ่', 'เหมือนเดิม', 'เอราวัณ', 'แนะนำ', 'แบบนี้', 'แป้งสาลี', 'แยก', 'แล้วก็', 'โครง', 'โด่งดัง', 'โตเกียว', 'โปรด', 'โรงแรม', 'ใจ', 'ไต', 'ไทย', 'Coq', 'Donburi', 'Gyutan', 'Menya', 'Tabelog', 'Vin', 'au', 'ข้าว', 'คล้ายๆ', 'ความมัน', 'ชอบ', 'ชื่อดัง', 'ซอส', 'ดอง', 'ดื่ม', 'ดู', 'ตัด', 'ตัว', 'ตัวผู้', 'ตุ๋น', 'ทาน', 'ทานอาหาร', 'นัว', 'นิดนึง', 'น้า', 'ผสมผสาน', 'ฝรั่งเศส', 'มีชื่อเสียง', 'ย่าง', 'ย้าย', 'รมควัน', 'ลอง', 'ลิ้น', 'วัว', 'วัวเนื้อ', 'วาซาบิ', 'ส่วนตัว', 'หน้า', 'อันดับ', 'อันนี้', 'เดิม', 'เนื้อ', 'เลี่ยน', 'เวลา', 'เว็ป', 'เหมือน', 'แทน', 'โปร่ง', 'โล่ง', 'ในประเทศ', 'ให้ได้', 'ไข่', 'ไวน์', '!', '!!', '*', '..', 'กก', 'กิ', 'ขนมหวาน', 'ขม', 'ความสะอาด', 'คุณภาพ', 'จืด', 'ชา', 'ชาเขียว', 'ดูดี', 'ตกลง', 'ตรงกันข้าม', 'ทน', 'น้ำตาล', 'บอ', 'บะ', 'บิน', 'ผิดที่', 'ผิดหวัง', 'พนักงาน', 'ฟรี', 'ยา', 'ราคา', 'ราดหน้า', 'ลูกค้า', 'ว้าว', 'สมราคา', 'สะดุด', 'สาย', 'สุดท้าย', 'หนา', 'หน้าตา', 'หมัก', 'หมี่', 'หวาน', 'หิว', 'ห๊ะ!!', 'อยู่ดี', 'อุตส่าห์', 'อ้วก', 'เกริ่น', 'เกินไป', 'เข้าเนื้อ', 'เคี้ยว', 'เค็ม', 'เจอ', 'เดิน', 'เตี๋ยว', 'เป๊าะ', 'เริ่ด', 'เหนียว', 'เหมือนว่า', 'เอิ่ม..', 'แก้ว', 'แข็ง', 'แน่ๆ', 'แบน', 'แปลก', 'แพง', 'แมลง', 'โซ', 'โดยเฉพาะ', 'ไม่งั้น', 'shio', 'unhealthy', 'กำลังดี', 'ก๋วยเตี๋ยว', 'ขนมจีน', 'คุณนาย', 'ฉ่ำ', 'ดีงาม', 'ดีมาก', 'ที่นี่', 'ที่อื่น', 'ธุระ', 'นะคะ', 'ยังมี', 'ราเมน', 'รีวิว', 'วันก่อน', 'ษร', 'หอม', 'อวบ', 'เก', 'เหมือนกัน', 'แวะ', 'โอเค', 'ไส้', 'ไหหลำ', '(พค', 'Bangkok', 'Best', 'Erawan', 'The', 'Tower', 'in', 'nabezo', 'กรุงเทพ', 'ชั่วคราว', 'ตรงข้าม', 'ตอนนี้', 'ตึก', 'ต่อไป', 'ถ้วย', 'ท็อป', 'นึกถึง', 'น้ำร้อน', 'บะหมี่', 'ปกติ', 'ประจำ', 'ประเภท', 'ปิ้ง', 'รอบ', 'รี', 'ลักษณะ', 'วิธี', 'สลับ', 'เย็น', 'เวต', 'เสมอ', 'เอก', 'แยกกัน', 'โซน', 'โน', 'ไปมา', 'Awabi', 'Cai', 'Hosomen', 'Pen', 'appChope', 'fc', 'ก', 'กวางตุ้ง', 'คนรัก', 'ครองใจ', 'จอง', 'ฉลอง', 'ชัด', 'ชาม', 'ซัน', 'ซุ', 'ดิบ', 'ตรุษจีน', 'ตัน', 'ตับ', 'ตา', 'ตำรับ', 'ต้น', 'ทอด', 'ที่จะ', 'น.', 'น่าสนใจ', 'น้ำจิ้ม', 'พริก', 'พิเศษ', 'ยุ', 'ราด', 'ล่วงหน้า', 'วัตถุดิบ', 'สดชื่น', 'สึ', 'หลายชนิด', 'อีกด้วย', 'เกลือ', 'เข้ากัน', 'เค', 'เตะ', 'เบส', 'เป๋าฮื้อ', 'เมน', 'เรียว', 'แถม', 'แฟน', 'โช', 'โดด', 'โต๊ะ', 'โทร', 'โฮ', 'ใส', 'ใส่', 'ไพ', 'ไม่ต้อง', 'ๆด้', 'Asari', 'Blackmore', 'Clam', 'Hamaguri', 'MBS', 'Shijimi', 'Shoyu', 'Wagyu', 'clams', 'paste', 'signature', 'truffle', 'with', 'การบ่ม', 'กิว', 'กิวสไลซ์', 'จำได้', 'ชิ', 'ตอนแรก', 'ถัง', 'ทรัฟเฟิล', 'น้ำมัน', 'ปี', 'พลุกพล่าน', 'พอร์', 'ฟิน', 'มิกซ์', 'ริ', 'ริฟ์', 'ลูกเต๋า', 'วา', 'สกัด', 'หั่น', 'ออน', 'เซน', 'เต็ม', 'เท', 'เปลี่ยนใจ', 'เส', 'เห็ด', 'เอกลักษณ์', 'แผ่', 'แพ้ทาง', 'แวะเวียน', 'โดยรวม', 'โปะ', 'ไม้', 'Hyatt', 'LG', 'Plaza', 'Tsukemon', 'nara', 'tabelog', 'ความเค็ม', 'ความเหนียว', 'คู่', 'ชื่อเสียง', 'ด้านหน้า', 'ติดกับ', 'ถึงกับ', 'ท่าน', 'นึง', 'ปั้น', 'ฟ', 'ระดับ', 'ลงตัว', 'วงใน', 'อาหาร', 'เข้าคู่', 'เว็บ', 'แซม', 'แอบ', 'ได้ดี', 'ได้ยิน', 'กลัว', 'อ', 'กล้า', 'ชม', 'ชมพู', 'พู๊', 'สี', 'Brulee', 'Cheese', 'Cr', 'Hokkaido', 'Homemade', 'Mazemen', 'Milk', 'Signature', 'Spicy', 'Tamako', 'Topping', 'Truffle', 'Wadashi', 'me', 'è', 'กระดูกอ่อน', 'กรุบ', 'กลิ่นหอม', 'กี่', 'ก้น', 'ขนม', 'ขลุกขลิก', 'ขาย', 'คนไทย', 'ครีม', 'คลุก', 'ความรู้สึก', 'คุ', 'คุ้มค่า', 'จาน', 'จำกัด', 'จำหน่าย', 'จุดเด่น', 'ชีส', 'ซ่า', 'ถูกใจ', 'ธรรมดา', 'นยะ', 'ป้าย', 'มีรส', 'มี่', 'ยู', 'ระ', 'รี้', 'ละมุน', 'ลืม', 'ลูกชิ้น', 'สงกรานต์', 'สด', 'สตอ', 'สปา', 'สัก', 'สับ', 'สุ', 'สูตร', 'สไตล์', 'อย่า', 'อิ', 'อิต', 'อิน', 'อินเตอร์', 'อ่ะ', 'ฮอกไกโด', 'เก็ตตี้', 'เก๋', 'เครื่องดื่ม', 'เบอร์', 'เปรี้ยว', 'เผ็ด', 'เม', 'เลือก', 'เส็น', 'เหมาะกับ', 'เอาไว้', 'แค็บ', 'แช่', 'แซลมอน', 'แน่น', 'แน่นอน', 'แห้ง', 'โซดา', 'โฮมเมด', 'ไข่ต้ม', 'ไข่ปลา', 'スパイシーまぜ麺', 'トリュフチーズまぜ麺', 'จมูก', 'ชื่อ', 'ซุบ', 'ด้อย', 'ถนัด', 'ถูกปาก', 'ที่สอง', 'ที่สาม', 'บรรดา', 'ปัง', 'พอได้', 'มละ', 'รู้สึก', 'หลัก', 'อ่อน', 'เจ้า', 'เหลือง', 'เอาเป็นว่า', 'แนว', 'ได้กลิ่น', 'ๆ++', '...', 'กลางๆ', 'ขนาด', 'ข้างนอก', 'คอย', 'ชนิด', 'ดีกว่า', 'ดึกดื่น', 'ตกแต่ง', 'ตั้งแต่แรก', 'ตามประสา', 'ต้องตาม', 'ถ่าย', 'ทำการบ้าน', 'ทำงาน', 'ที่มา', 'นั่ง', 'น้อง', 'บาร์', 'ประทับใจ', 'ปาก', 'ผัก', 'พี่', 'ฟิล', 'มีโอกาส', 'มื้อ', 'ยัน', 'ราชประสงค์', 'รู้', 'ลวก', 'ว่าที่', 'สามชั้น', 'สเป็ค', 'หรอก', 'ฮือฮา', 'เคาน์เตอร์', 'เนื้อสัตว์', 'เฟส', 'เห่อ', 'แฟนคลับ', 'แฮม', ':(', ':)', 'G', 'กินกัน', 'กินที่', 'ขอบคุณ', 'ขึ้นชื่อว่า', 'ข้างน้อย', 'คนละอย่าง', 'คนเดียว', 'คล่องคอ', 'คำนึง', 'คุณพ่อ', 'จอด', 'ชม.', 'ซูด', 'ตอนนั้น', 'ตัดสิน', 'ถึงขั้น', 'นิ่ม', 'บัตรจอดรถ', 'บ่น', 'ปั๊ม', 'ฟู๊ต)', 'มากขึ้น', 'มาร', 'มือ', 'รถ', 'ร้านอาหาร', 'ร๊พ', 'ละมา', 'ลัก', 'สรุป', 'สวัสดี', 'สา', 'สำหรับ', 'สุก', 'หมูสับ', 'อยู่เลย', 'ออกมา', 'ฮ่า', 'า', 'เจือจาง', 'เจ้าของร้าน', 'เชียว', 'เซต', 'เซ็น', 'เดิมที', 'เตรียม', 'เนื้อหมู', 'เปลี่ยนไป', 'เป็นน้ำ', 'เริ่มต้น', 'เส้นแข็ง', 'เห', 'เหยือก', 'เอ๊ะ', 'แพ', 'แรง', 'ใจมา', 'ใช้ได้', '%', 'Noodles', 'ดาว', 'ตก', 'ตกไป', 'ที่จอดรถ', 'น่ากลัว', 'น่าจะเป็น', 'ปานกลาง', 'ผม', 'มิติ', 'มีเสน่ห์', 'รร', 'ระวัง', 'หมุน', 'หลงเหลือ', 'อัพ', 'อารมณ์', 'เก่า', 'เข้ามา', 'เนื้อไก่', 'เมือ', 'แคบ', 'โค้ง', 'ChashuShioRamen', 'เพื่อนฝูง', 'กรกฎาคม', 'กาน', 'คนญี่ปุ่น', 'ชาติ', 'ชิน', 'นู', 'รล', 'เกี้ยว', 'เดือน', '🇯🇵', ')', 'Arena', 'Bara', 'Champion', 'Nidaime', 'Pork', 'Rosu', 'Tamago', 'Tori', 'Tsujita', 'Wongnai', '[', ']', 'belly', 'sholder', 'กลับมา', 'ครึ่ง', 'ควรจะ', 'คุย', 'ชั่วโมง', 'ชั้นใต้ดิน', 'ซีเรียส', 'ดั้งเดิม', 'ดีกรี', 'ตรงเวลา', 'ต่างกัน', 'ต้ม', 'ถนน', 'ทางเข้า', 'ที่อยู่', 'ทุ่ม', 'น้ำพริก', 'ปรับเปลี่ยน', 'ปรุงรส', 'ผู้ใช้งาน', 'ฝั่ง', 'พระราม', 'สิบ', 'สู้', 'เด๊ะ', 'เทียบ', 'เนื้อที่', 'เบา', 'เป็นพิเศษ', 'เพื่อน', 'เยี่ยม', 'เรื่องราว', 'เวิร์ค', 'เว็บไซต์', 'เหนียวหนึบ', 'เหมือนกับ', 'โชคดี', 'firm', 'original', 'ซู้ด', 'ซ้ำ', 'ตามใจชอบ', 'ต้องห้าม', 'บ่ายโมง', 'ป้ค', 'พลาด', 'พุธ', 'รูป', 'ลองดู', 'สั่งอาหาร', 'Sous', 'Tokusei', 'Vide', 'XO', 'กระดูก', 'จาง', 'ซัก', 'ติด', 'นะจ๊ะ', 'พริกป่น', 'ฟุ้ง', 'รสเค็ม', 'เกาะ', 'เท่าที่ควร', 'เฮลตี้', 'แก้', 'โดดเด่น', 'โดน', 'โดนใจ', 'ใช้การ', '  ', 'ก้อ', 'ต้นตำรับ', 'นำ้', 'บังเอิญ', 'บูท', 'พารากอน', 'อีกแล้ว', 'เป็นครั้งแรก', 'แป๊ป', 'สะอาด', 'ความแข็ง', 'ShioRamen', 'ชิด', 'มะตูม', 'รถไฟฟ้า', 'ลม', 'สะดวก', 'เดินทาง', 'brulee', 'compote', 'creme', 'strawberry', 'ขวด', 'ครั้งแรก', 'ดีขึ้น', 'ตกม้าตาย', 'นับว่า', 'มีธุระ', 'ราวๆ', 'อี', 'แถว', '&', 'จา', 'ชัก', 'ทรัพย์', 'มดี', 'มันดี', 'สักพัก', 'หอ', 'เข้ม', 'แหะๆ', 'ไปดู', 'ค่น', 'บด', 'สัมผัส', 'หา', 'เนียน', 'เสียใจ', 'แต่กลับ', 'แทบจะ', 'โอะ', 'Scallop', 'counter', 'oil', 'ขึ้นชื่อ', 'คอนเฟิร์ม', 'ค่า', 'ทยอย', 'น', 'นาที', 'ร่ำ', 'ลือ', 'หยี', 'หลังจากที่', 'เลิกงาน', 'Ittou', 'กลางเมือง', 'จิ', 'ญีปุ่่น', 'ดังที่', 'ดา', 'ทอ', 'ที่โน่น', 'นอ', 'บ้าน', 'ป', 'รางวัล', 'ราเม็ง', 'ร้า', 'ล', 'อริ', 'เด่น'])\n"
          ]
        }
      ]
    },
    {
      "cell_type": "code",
      "source": [
        "gensim_corpus = [dictionary.doc2bow(text, allow_update=True) for text in texts]\n",
        "word_frequencies = [[(dictionary[id], frequence) for id, frequence in couple] for couple in gensim_corpus] # checking มีคำ ซ้ำเท่าไร"
      ],
      "metadata": {
        "id": "boxZE8zdQUWt"
      },
      "execution_count": 58,
      "outputs": []
    },
    {
      "cell_type": "markdown",
      "source": [
        "## Topic modeling build\n",
        "- Build the LDA model\n",
        "- set the topic with k = 3"
      ],
      "metadata": {
        "id": "JyNvBn5BPB1e"
      }
    },
    {
      "cell_type": "code",
      "source": [
        "num_topics = 3\n",
        "chunksize = 4000 # size of the doc looked at every pass\n",
        "passes = 20 # no. of passes through documnets\n",
        "iterations = 50\n",
        "eval_every = 1 # Don't evaluate model perplextty (tool long time)\n",
        "\n",
        "# Set index to word dict\n",
        "temp = dictionary[0] # only to load the dict\n",
        "id2word = dictionary.id2token\n",
        "\n",
        "%time model = gensim.models.LdaModel(corpus=gensim_corpus, id2word=id2word, chunksize=chunksize, \\\n",
        "                                     alpha = 'auto', eta = 'auto', \\\n",
        "                                     iterations=iterations, num_topics=num_topics, \\\n",
        "                                     passes=passes, eval_every=eval_every)"
      ],
      "metadata": {
        "colab": {
          "base_uri": "https://localhost:8080/"
        },
        "id": "ZG6kEAEBSwXh",
        "outputId": "14accb8d-ecc6-4b85-96d4-3535cc6b241a"
      },
      "execution_count": 59,
      "outputs": [
        {
          "output_type": "stream",
          "name": "stdout",
          "text": [
            "CPU times: user 825 ms, sys: 1.38 ms, total: 827 ms\n",
            "Wall time: 849 ms\n"
          ]
        }
      ]
    },
    {
      "cell_type": "markdown",
      "source": [
        "View result"
      ],
      "metadata": {
        "id": "ODxcB-HyV4Cs"
      }
    },
    {
      "cell_type": "code",
      "source": [
        "pyLDAvis.gensim.prepare(model, gensim_corpus, dictionary)"
      ],
      "metadata": {
        "colab": {
          "base_uri": "https://localhost:8080/",
          "height": 861
        },
        "id": "jPNlaTtLVWmo",
        "outputId": "08ef0964-a4b7-4ec8-9a6e-eb662a0327b2"
      },
      "execution_count": 60,
      "outputs": [
        {
          "output_type": "execute_result",
          "data": {
            "text/plain": [
              "PreparedData(topic_coordinates=              x         y  topics  cluster       Freq\n",
              "topic                                                \n",
              "0      0.062861 -0.042316       1        1  46.521021\n",
              "2     -0.075746 -0.023861       2        1  33.655240\n",
              "1      0.012885  0.066177       3        1  19.823739, topic_info=        Term       Freq      Total Category  logprob  loglift\n",
              "278    ราเมน  28.000000  28.000000  Default  30.0000  30.0000\n",
              "29       น้ำ  38.000000  38.000000  Default  29.0000  29.0000\n",
              "553      ซุบ   4.000000   4.000000  Default  28.0000  28.0000\n",
              "67       กิน  30.000000  30.000000  Default  27.0000  27.0000\n",
              "154      ชอบ  20.000000  20.000000  Default  26.0000  26.0000\n",
              "..       ...        ...        ...      ...      ...      ...\n",
              "60      Itto   2.122754  10.349378   Topic3  -5.4876   0.0341\n",
              "6      Ramen   2.122675  12.930305   Topic3  -5.4877  -0.1886\n",
              "180  ส่วนตัว   2.122672   8.103596   Topic3  -5.4877   0.2787\n",
              "20      ชาชู   2.122657  14.483285   Topic3  -5.4877  -0.3020\n",
              "189   เหมือน   2.122629   8.047768   Topic3  -5.4877   0.2856\n",
              "\n",
              "[224 rows x 6 columns], token_table=      Topic      Freq      Term\n",
              "term                           \n",
              "58        1  0.899854         \"\n",
              "572       2  0.553651       ...\n",
              "572       3  0.276825       ...\n",
              "1         1  0.485844    Chashu\n",
              "1         2  0.485844    Chashu\n",
              "...     ...       ...       ...\n",
              "57        3  0.216161       ไก่\n",
              "570       3  0.731714  ได้กลิ่น\n",
              "143       1  0.263893       ไทย\n",
              "143       2  0.659731       ไทย\n",
              "571       3  0.731717       ๆ++\n",
              "\n",
              "[260 rows x 3 columns], R=30, lambda_step=0.01, plot_opts={'xlab': 'PC1', 'ylab': 'PC2'}, topic_order=[1, 3, 2])"
            ],
            "text/html": [
              "\n",
              "<link rel=\"stylesheet\" type=\"text/css\" href=\"https://cdn.jsdelivr.net/gh/bmabey/pyLDAvis@3.4.0/pyLDAvis/js/ldavis.v1.0.0.css\">\n",
              "\n",
              "\n",
              "<div id=\"ldavis_el48731394046912465446751585104\" style=\"background-color:white;\"></div>\n",
              "<script type=\"text/javascript\">\n",
              "\n",
              "var ldavis_el48731394046912465446751585104_data = {\"mdsDat\": {\"x\": [0.06286130976204338, -0.07574622371456079, 0.012884913952517542], \"y\": [-0.04231605426704218, -0.023860732613980775, 0.06617678688102294], \"topics\": [1, 2, 3], \"cluster\": [1, 1, 1], \"Freq\": [46.52102126179988, 33.65523976492234, 19.82373897327777]}, \"tinfo\": {\"Term\": [\"\\u0e23\\u0e32\\u0e40\\u0e21\\u0e19\", \"\\u0e19\\u0e49\\u0e33\", \"\\u0e0b\\u0e38\\u0e1a\", \"\\u0e01\\u0e34\\u0e19\", \"\\u0e0a\\u0e2d\\u0e1a\", \"\\u0e40\\u0e21\\u0e19\", \"\\u0e0d\\u0e35\\u0e48\\u0e1b\\u0e38\\u0e48\\u0e19\", \"Tsukemen\", \"\\u0e40\\u0e04\", \"\\u0e2a\\u0e36\", \"\\u0e01\\u0e01\", \"\\u0e2d\\u0e31\\u0e19\\u0e19\\u0e35\\u0e49\", \"\\u0e23\\u0e32\\u0e40\\u0e21\\u0e07\", \"\\u0e40\\u0e04\\u0e47\\u0e21\", \"\\u0e1c\\u0e21\", \"\\u0e2d\\u0e23\\u0e48\\u0e2d\\u0e22\", \"\\u0e25\\u0e2d\\u0e07\", \"\\u0e40\\u0e21\\u0e19\\u0e39\", \"\\u0e0a\\u0e32\\u0e21\", \"\\u0e19\\u0e38\\u0e48\\u0e21\", \"\\u0e14\\u0e35\", \"\\u0e23\\u0e2a\", \"\\u0e44\\u0e17\\u0e22\", \"\\u0e23\\u0e35\\u0e27\\u0e34\\u0e27\", \"\\u0e41\\u0e1f\\u0e19\", \"\\u0e2b\\u0e21\\u0e39\", \"\\u0e01\\u0e33\\u0e25\\u0e31\\u0e07\\u0e14\\u0e35\", \"\\u0e2d\\u0e01\\u0e44\\u0e01\\u0e48\", \"\\u0e0b\\u0e38\\u0e1b\", \"\\u0e04\\u0e27\\u0e32\\u0e21\\u0e21\\u0e31\\u0e19\", \"\\u0e23\\u0e2a\", \"\\\"\", \"\\u0e2b\\u0e34\\u0e27\", \"\\u0e41\\u0e19\\u0e48\\u0e19\\u0e2d\\u0e19\", \"\\u0e08\\u0e32\\u0e19\", \"\\u0e1c\\u0e34\\u0e14\\u0e2b\\u0e27\\u0e31\\u0e07\", \"Signature\", \"\\u0e25\\u0e37\\u0e21\", \"\\u0e41\\u0e1c\\u0e48\\u0e19\", \"\\u0e40\\u0e01\\u0e34\\u0e19\\u0e44\\u0e1b\", \"\\u0e19\\u0e34\\u0e48\\u0e21\", \"\\u0e40\\u0e2d\\u0e4a\\u0e30\", \"\\u0e40\\u0e04\\u0e23\\u0e37\\u0e48\\u0e2d\\u0e07\", \"\\u0e2b\\u0e27\\u0e32\\u0e19\", \"\\u0e41\\u0e02\\u0e47\\u0e07\", \"\\u0e41\\u0e21\\u0e25\\u0e07\", \"Mazemen\", \"\\u0e2a\\u0e32\\u0e2b\\u0e23\\u0e48\\u0e32\\u0e22\", \"\\u0e04\\u0e2d\", \"Shio\", \"\\u0e40\\u0e15\\u0e34\\u0e21\", \"\\u0e40\\u0e2a\\u0e34\\u0e23\\u0e4c\\u0e1f\", \"\\u0e01\\u0e25\\u0e31\\u0e27\", \"\\u0e21\\u0e35\\u0e23\\u0e2a\", \"\\u0e02\\u0e19\\u0e21\\u0e2b\\u0e27\\u0e32\\u0e19\", \"\\u0e40\\u0e2b\\u0e21\\u0e37\\u0e2d\\u0e19\\u0e40\\u0e14\\u0e34\\u0e21\", \"\\u0e08\\u0e32\\u0e07\", \"\\u0e01\\u0e23\\u0e30\\u0e14\\u0e39\\u0e01\", \"\\u0e0b\\u0e36\\u0e40\\u0e04\\u0e30\", \"\\u0e41\\u0e19\\u0e48\\u0e46\", \"\\u0e23\\u0e32\\u0e40\\u0e21\\u0e07\", \"\\u0e0a\\u0e34\\u0e49\\u0e19\", \"\\u0e0b\\u0e38\\u0e1b\", \"\\u0e40\\u0e2a\\u0e49\\u0e19\", \"\\u0e19\\u0e30\\u0e04\\u0e30\", \"\\u0e1b\\u0e25\\u0e32\", \"\\u0e0b\\u0e14\", \"\\u0e0a\\u0e32\\u0e21\", \"\\u0e01\\u0e34\\u0e19\", \"\\u0e14\\u0e35\", \"\\u0e0a\\u0e32\\u0e0a\\u0e39\", \"Ramen\", \"\\u0e19\\u0e49\\u0e33\", \"\\u0e23\\u0e2a\\u0e0a\\u0e32\\u0e15\\u0e34\", \"\\u0e2b\\u0e21\\u0e39\", \"\\u0e40\\u0e02\\u0e49\\u0e21\\u0e02\\u0e49\\u0e19\", \"\\u0e0a\\u0e34\\u0e21\", \"\\u0e40\\u0e04\\u0e47\\u0e21\", \"\\u0e40\\u0e01\\u0e35\\u0e4a\\u0e22\\u0e27\\u0e0b\\u0e48\\u0e32\", \"\\u0e2d\\u0e23\\u0e48\\u0e2d\\u0e22\", \"\\u0e44\\u0e01\\u0e48\", \"\\u0e17\\u0e32\\u0e19\", \"\\u0e25\\u0e2d\\u0e07\", \"\\u0e04\\u0e19\", \"\\u0e2a\\u0e31\\u0e48\\u0e07\", \"\\u0e40\\u0e21\\u0e19\\u0e39\", \"\\u0e04\\u0e34\\u0e27\", \"Chashu\", \"\\u0e0a\\u0e2d\\u0e1a\", \"Tsukemen\", \"\\u0e40\\u0e22\\u0e47\\u0e19\", \"\\u0e1c\\u0e21\", \"\\u0e04\\u0e27\\u0e32\\u0e21\\u0e21\\u0e31\\u0e19\", \"\\u0e40\\u0e21\\u0e19\", \"\\u0e40\\u0e04\", \"\\u0e2a\\u0e36\", \"\\u0e40\\u0e15\\u0e47\\u0e21\", \"\\u0e40\\u0e1b\\u0e4b\\u0e32\\u0e2e\\u0e37\\u0e49\\u0e2d\", \"\\u0e43\\u0e2b\\u0e49\\u0e44\\u0e14\\u0e49\", \"\\u0e22\\u0e49\\u0e32\\u0e22\", \"\\u0e25\\u0e34\\u0e49\\u0e19\", \"\\u0e01\\u0e23\\u0e38\\u0e07\\u0e40\\u0e17\\u0e1e\", \"\\u0e41\\u0e16\\u0e21\", \"\\u0e40\\u0e15\\u0e30\", \"\\u0e27\\u0e32\", \"\\u0e23\\u0e32\\u0e14\", \"\\u0e25\\u0e48\\u0e27\\u0e07\\u0e2b\\u0e19\\u0e49\\u0e32\", \"\\u0e08\\u0e2d\\u0e07\", \"\\u0e15\\u0e32\", \"\\u0e42\\u0e17\\u0e23\", \"\\u0e40\\u0e1e\\u0e37\\u0e48\\u0e2d\\u0e19\", \"\\u0e42\\u0e2e\", \"\\u0e22\\u0e38\", \"\\u0e42\\u0e0a\", \"\\u0e17\\u0e35\\u0e48\\u0e08\\u0e2d\\u0e14\\u0e23\\u0e16\", \"\\u0e0a\\u0e31\\u0e48\\u0e27\\u0e42\\u0e21\\u0e07\", \"Pork\", \"\\u0e1b\\u0e35\", \"\\u0e40\\u0e19\\u0e37\\u0e49\\u0e2d\\u0e17\\u0e35\\u0e48\", \"\\u0e19\\u0e48\\u0e32\\u0e08\\u0e30\\u0e40\\u0e1b\\u0e47\\u0e19\", \"Rosu\", \"\\u0e01\\u0e01\", \"\\u0e44\\u0e17\\u0e22\", \"Tsukemen\", \"\\u0e2d\\u0e31\\u0e19\\u0e14\\u0e31\\u0e1a\", \"\\u0e0d\\u0e35\\u0e48\\u0e1b\\u0e38\\u0e48\\u0e19\", \"\\u0e2a\\u0e32\\u0e02\\u0e32\", \"\\u0e40\\u0e21\\u0e19\\u0e39\", \"\\u0e43\\u0e2a\\u0e48\", \"\\u0e23\\u0e32\\u0e40\\u0e21\\u0e19\", \"Chashu\", \"...\", \"\\u0e17\\u0e32\\u0e19\", \"\\u0e0a\\u0e2d\\u0e1a\", \"\\u0e2a\\u0e31\\u0e48\\u0e07\", \"\\u0e2a\\u0e33\\u0e2b\\u0e23\\u0e31\\u0e1a\", \"\\u0e16\\u0e49\\u0e27\\u0e22\", \"\\u0e1e\\u0e23\\u0e34\\u0e01\", \"Gaysorn\", \"\\u0e23\\u0e2a\\u0e0a\\u0e32\\u0e15\\u0e34\", \"\\u0e2d\\u0e23\\u0e48\\u0e2d\\u0e22\", \"Itto\", \"\\u0e44\\u0e01\\u0e48\", \"\\u0e04\\u0e19\", \"\\u0e17\\u0e33\", \"\\u0e0b\\u0e38\\u0e1b\", \"\\u0e04\\u0e34\\u0e27\", \"\\u0e25\\u0e2d\\u0e07\", \"\\u0e40\\u0e02\\u0e49\\u0e21\\u0e02\\u0e49\\u0e19\", \"\\u0e40\\u0e2a\\u0e49\\u0e19\", \"\\u0e19\\u0e49\\u0e33\", \"\\u0e40\\u0e04\\u0e47\\u0e21\", \"\\u0e14\\u0e35\", \"\\u0e01\\u0e34\\u0e19\", \"\\u0e0b\\u0e38\\u0e1a\", \"\\u0e1b\\u0e31\\u0e07\", \"\\u0e02\\u0e19\\u0e32\\u0e14\", \"\\u0e23\\u0e35\\u0e27\\u0e34\\u0e27\", \"\\u0e41\\u0e1f\\u0e19\", \"\\u0e2d\\u0e31\\u0e19\\u0e19\\u0e35\\u0e49\", \"\\u0e16\\u0e19\\u0e31\\u0e14\", \"ShioRamen\", \"\\u0e21\\u0e30\\u0e15\\u0e39\\u0e21\", \"\\u0e23\\u0e16\\u0e44\\u0e1f\\u0e1f\\u0e49\\u0e32\", \"\\u0e40\\u0e14\\u0e34\\u0e19\\u0e17\\u0e32\\u0e07\", \"\\u0e46++\", \"\\u0e0a\\u0e34\\u0e14\", \"\\u0e08\\u0e21\\u0e39\\u0e01\", \"\\u0e16\\u0e39\\u0e01\\u0e1b\\u0e32\\u0e01\", \"\\u0e1a\\u0e23\\u0e23\\u0e14\\u0e32\", \"\\u0e25\\u0e21\", \"\\u0e17\\u0e35\\u0e48\\u0e2a\\u0e32\\u0e21\", \"\\u0e0a\\u0e37\\u0e48\\u0e2d\", \"\\u0e1e\\u0e2d\\u0e44\\u0e14\\u0e49\", \"\\u0e0a\\u0e21\\u0e1e\\u0e39\", \"\\u0e40\\u0e2d\\u0e32\\u0e40\\u0e1b\\u0e47\\u0e19\\u0e27\\u0e48\\u0e32\", \"\\u0e21\\u0e25\\u0e30\", \"\\u0e17\\u0e35\\u0e48\\u0e2a\\u0e2d\\u0e07\", \"\\u0e14\\u0e49\\u0e2d\\u0e22\", \"\\u0e40\\u0e2b\\u0e25\\u0e37\\u0e2d\\u0e07\", \"\\u0e44\\u0e14\\u0e49\\u0e01\\u0e25\\u0e34\\u0e48\\u0e19\", \"\\u0e2b\\u0e25\\u0e31\\u0e01\", \"\\u0e01\\u0e25\\u0e49\\u0e32\", \"\\u0e02\\u0e19\\u0e21\\u0e08\\u0e35\\u0e19\", \"\\u0e2a\\u0e35\", \"\\u0e23\\u0e32\\u0e40\\u0e21\\u0e19\", \"\\u0e01\\u0e33\\u0e25\\u0e31\\u0e07\\u0e14\\u0e35\", \"\\u0e0a\\u0e21\", \"\\u0e41\\u0e19\\u0e27\", \"\\u0e42\\u0e2d\\u0e40\\u0e04\", \"\\u0e2a\\u0e38\\u0e14\\u0e17\\u0e49\\u0e32\\u0e22\", \"\\u0e22\\u0e31\\u0e07\\u0e21\\u0e35\", \"\\u0e18\\u0e23\\u0e23\\u0e21\\u0e14\\u0e32\", \"\\u0e19\\u0e49\\u0e33\", \"\\u0e0a\\u0e2d\\u0e1a\", \"\\u0e01\\u0e34\\u0e19\", \"\\u0e19\\u0e38\\u0e48\\u0e21\", \"\\u0e40\\u0e04\\u0e47\\u0e21\", \"\\u0e25\\u0e2d\\u0e07\", \"\\u0e14\\u0e39\", \"\\u0e2d\\u0e23\\u0e48\\u0e2d\\u0e22\", \"tsukemen\", \"\\u0e40\\u0e01\\u0e25\\u0e37\\u0e2d\", \"\\u0e2d\\u0e01\\u0e44\\u0e01\\u0e48\", \"\\u0e14\\u0e35\", \"\\u0e0a\\u0e32\\u0e21\", \"\\u0e2b\\u0e21\\u0e39\", \"\\u0e0d\\u0e35\\u0e48\\u0e1b\\u0e38\\u0e48\\u0e19\", \"\\u0e41\\u0e1a\\u0e1a\\u0e19\\u0e35\\u0e49\", \"\\u0e0b\\u0e38\\u0e1b\", \"\\u0e40\\u0e21\\u0e19\\u0e39\", \"\\u0e2a\\u0e31\\u0e48\\u0e07\", \"\\u0e23\\u0e2a\\u0e0a\\u0e32\\u0e15\\u0e34\", \"\\u0e44\\u0e01\\u0e48\", \"\\u0e40\\u0e2a\\u0e49\\u0e19\", \"\\u0e17\\u0e32\\u0e19\", \"\\u0e04\\u0e19\", \"\\u0e40\\u0e01\\u0e35\\u0e4a\\u0e22\\u0e27\\u0e0b\\u0e48\\u0e32\", \"\\u0e40\\u0e02\\u0e49\\u0e21\\u0e02\\u0e49\\u0e19\", \"Itto\", \"Ramen\", \"\\u0e2a\\u0e48\\u0e27\\u0e19\\u0e15\\u0e31\\u0e27\", \"\\u0e0a\\u0e32\\u0e0a\\u0e39\", \"\\u0e40\\u0e2b\\u0e21\\u0e37\\u0e2d\\u0e19\"], \"Freq\": [28.0, 38.0, 4.0, 30.0, 20.0, 8.0, 15.0, 14.0, 7.0, 7.0, 9.0, 5.0, 19.0, 23.0, 5.0, 31.0, 20.0, 25.0, 22.0, 11.0, 25.0, 7.0, 7.0, 3.0, 3.0, 18.0, 4.0, 5.0, 59.0, 3.0, 6.702756817915545, 5.094006981818632, 4.289854076989626, 4.289511245970197, 3.4853765619230908, 3.4853233011760008, 3.4853090048702025, 3.485317134142127, 3.485129039608981, 2.681100036096891, 2.6810495785470163, 2.681021266255142, 2.681007250269065, 2.6810058486704578, 2.6809724906235957, 2.6809548304811397, 2.680942496413392, 2.680814670620375, 2.680783835451007, 5.898176425511208, 8.312236606567318, 5.093922325262731, 1.8767726322412341, 1.876732826840777, 1.8767263794871818, 1.8767265196470426, 1.8767356300379923, 1.876734648918967, 1.8767218943716375, 1.8767148863785992, 15.55255302358748, 5.898800977850773, 38.07892250493801, 26.011651855847184, 5.0939996935058725, 3.4854701887100816, 3.4852644340344794, 13.942635375530681, 17.160639623223258, 14.74724379990717, 9.11586615447623, 8.312727726719435, 19.57702926116527, 17.16251103768418, 10.726530574271182, 11.531559478229964, 5.094197599229272, 11.530507718634789, 6.702863900049168, 13.944372236525272, 10.725366686787394, 9.11889248618985, 8.314404038654175, 7.5080279181137275, 8.313443102648776, 8.314218466998524, 5.899826387392125, 5.899180530753723, 5.900542884600352, 5.09647323472864, 5.0954399762350855, 4.739789715431147, 3.242747980888086, 6.985505934408284, 6.237141523428376, 6.236716870836468, 2.4947684746930108, 2.4947102725469374, 2.4945817005587476, 2.4944855757600064, 2.494373632956409, 1.7463442392075565, 1.7463093584788993, 1.7462992187321966, 1.7463059109650205, 1.7462992187321966, 1.7462848202918788, 1.7462821839577363, 1.7462781280590551, 1.7462722470059675, 1.746300638296735, 1.7462637296187373, 1.7462728553907698, 1.7462728553907698, 1.7462353383279698, 1.7462410165861233, 1.7462197231180479, 1.7462039051131917, 1.7461878843134013, 1.74618930387794, 1.74616780761493, 6.986671599689222, 5.488755210595589, 9.229594926834578, 3.9913324243714423, 8.481079636423733, 4.739835141496375, 12.224408052093423, 4.740641048564303, 12.226436001433955, 6.237582805204875, 2.4947100697520033, 9.230371225842132, 8.48273606544508, 8.483242241600477, 2.495153785067712, 2.494785509467471, 2.4947027691343773, 2.494534652134047, 10.728599919134208, 9.981532584552504, 4.74036524745399, 7.735260707456061, 6.237869962831494, 3.99152994663721, 12.227089812301344, 4.740237892235404, 6.237167886769802, 6.236774464597739, 8.484456577665588, 7.735088737351984, 5.49020519437407, 4.742005858470481, 4.742219198741105, 4.032383264688343, 1.4856231416869123, 1.4855340312011773, 2.1220778239995766, 2.122066356698463, 3.395862525943224, 0.8489117590607838, 0.8489105048247245, 0.8489098478439315, 0.8489047711741678, 0.8489031585849488, 0.8489037558402152, 0.8489017848978363, 0.8489004112107237, 0.8488982013662383, 0.8488970665812323, 0.8488936025006877, 0.8488941997559539, 0.848893721951741, 0.848891930185942, 0.848890616224356, 0.84888966061593, 0.8488895411648767, 0.8488886452819772, 0.8488866146140717, 0.848885599280119, 0.8488818365719412, 0.8488801045316688, 0.8488785516679764, 0.8488738333513725, 0.8488762820979644, 12.309545711873877, 2.12234181082729, 1.4856616049260634, 1.4856378341664638, 1.4855816921714298, 1.485522563900064, 1.4855109771478974, 1.4855066769099798, 11.035944247845936, 6.57995314637985, 8.489945386406959, 4.032532339602816, 6.579325789448108, 5.942589083198687, 2.122501397434451, 7.8527409098329555, 2.1224789406364373, 2.1224409552014993, 2.1223506502052314, 5.943089344209756, 5.306819452676492, 4.669178263051756, 4.032905982497426, 2.1224392828867535, 9.125887504250066, 5.3073550711993285, 4.669611153668785, 5.943525101652064, 4.670230387928906, 5.942024318618854, 4.033321194358572, 3.3964564365800527, 2.759583078325698, 2.7596480596986734, 2.1227541558631575, 2.1226746014616835, 2.122672451342725, 2.1226571616079073, 2.1226292100614432], \"Total\": [28.0, 38.0, 4.0, 30.0, 20.0, 8.0, 15.0, 14.0, 7.0, 7.0, 9.0, 5.0, 19.0, 23.0, 5.0, 31.0, 20.0, 25.0, 22.0, 11.0, 25.0, 7.0, 7.0, 3.0, 3.0, 18.0, 4.0, 5.0, 59.0, 3.0, 7.165369871067825, 5.55645678276434, 4.752027540243026, 4.752008919798999, 3.9475771164735116, 3.9475569405219613, 3.947567370514112, 3.947578914370867, 3.9475422110180958, 3.143135116354814, 3.143127279351422, 3.143120282636689, 3.1431194959297644, 3.143123758423757, 3.1431076248271803, 3.143106235516157, 3.1431127786045, 3.1430882561602176, 3.1431013025220955, 7.109335349358834, 10.159578243906422, 6.304918470437364, 2.3386949663780756, 2.338681023732382, 2.3386776334351786, 2.338678584594502, 2.3386900090976175, 2.338691514914373, 2.3386875494706167, 2.338684014881644, 19.757334130319496, 7.746139197311799, 59.43189982148942, 40.43813275213163, 6.941647612815787, 4.584288620126375, 4.58426495534458, 22.493801644355337, 30.39280420837132, 25.43233900258741, 14.483285253462306, 12.930304647530605, 38.348062246363185, 33.83463605847045, 18.639474443190103, 20.527982002526375, 7.5784388565877485, 23.600038702456963, 11.209449287143425, 31.778645730910732, 23.130857782172363, 22.382584906390555, 20.49416100862266, 17.142354317525275, 21.46629649791804, 25.845981590291277, 11.489247073128169, 12.349654348520463, 20.96323209642528, 14.539629832063634, 10.461193672183143, 5.221539063399551, 3.7242765376854505, 8.104073711592449, 7.355451099285208, 7.35545550337079, 2.9756481624324, 2.975619437301982, 2.9756795127735503, 2.9756539657062944, 2.9756797813801636, 2.2270439775689663, 2.227028499660977, 2.227017986830406, 2.2270323308890605, 2.227027947585592, 2.2270146453804784, 2.227014488893248, 2.2270154113324425, 2.2270204634557222, 2.227057473181496, 2.227010745605796, 2.2270239657850466, 2.2270250242609073, 2.227045588470291, 2.22706490813154, 2.2270638907638833, 2.227050076207169, 2.2270595528621624, 2.2270667010398455, 2.227056089764871, 9.076067411881992, 7.578840844753943, 14.539629832063634, 5.913945307815604, 15.198459022546924, 7.634720671754384, 25.845981590291277, 8.103720316758693, 28.024047382319544, 12.349654348520463, 3.612385048814913, 22.382584906390555, 20.96323209642528, 21.46629649791804, 3.779939961490809, 3.77994623035473, 3.779919373852631, 3.779930741009158, 33.83463605847045, 31.778645730910732, 10.349378131403888, 23.130857782172363, 17.142354317525275, 8.495028023163128, 59.43189982148942, 11.489247073128169, 20.49416100862266, 20.527982002526375, 40.43813275213163, 38.348062246363185, 23.600038702456963, 25.43233900258741, 30.39280420837132, 4.550557066826883, 2.003426932548956, 2.0034464236315794, 3.3887671028969795, 3.388777233466933, 5.4665447655285355, 1.366645886888442, 1.3666452455740878, 1.3666448845557841, 1.3666463006163911, 1.3666466823518135, 1.3666478257119161, 1.3666467742362265, 1.3666485919870588, 1.3666493124097285, 1.3666495631800348, 1.3666487635655298, 1.3666502444356272, 1.366650190894846, 1.3666509092397259, 1.3666505340511859, 1.3666514067348037, 1.3666514646678967, 1.3666519270683075, 1.3666520880591766, 1.3666525133479104, 1.366653504969134, 1.366653867943337, 1.3666536139429408, 1.3666498263779907, 1.3666540484798395, 28.024047382319544, 4.248938282553726, 2.8077114327830555, 2.807712697718314, 2.807716821251442, 2.807741863109748, 2.807742066579653, 2.807746416940501, 38.348062246363185, 20.96323209642528, 30.39280420837132, 11.511188531233142, 23.600038702456963, 20.49416100862266, 4.9415978075704485, 31.778645730910732, 4.997413673760218, 4.99743106735306, 5.053393699809413, 25.43233900258741, 22.493801644355337, 18.639474443190103, 15.198459022546924, 5.746050701921478, 59.43189982148942, 25.845981590291277, 21.46629649791804, 33.83463605847045, 23.130857782172363, 40.43813275213163, 22.382584906390555, 17.142354317525275, 11.209449287143425, 20.527982002526375, 10.349378131403888, 12.930304647530605, 8.103595956054232, 14.483285253462306, 8.047768262296184], \"Category\": [\"Default\", \"Default\", \"Default\", \"Default\", \"Default\", \"Default\", \"Default\", \"Default\", \"Default\", \"Default\", \"Default\", \"Default\", \"Default\", \"Default\", \"Default\", \"Default\", \"Default\", \"Default\", \"Default\", \"Default\", \"Default\", \"Default\", \"Default\", \"Default\", \"Default\", \"Default\", \"Default\", \"Default\", \"Default\", \"Default\", \"Topic1\", \"Topic1\", \"Topic1\", \"Topic1\", \"Topic1\", \"Topic1\", \"Topic1\", \"Topic1\", \"Topic1\", \"Topic1\", \"Topic1\", \"Topic1\", \"Topic1\", \"Topic1\", \"Topic1\", \"Topic1\", \"Topic1\", \"Topic1\", \"Topic1\", \"Topic1\", \"Topic1\", \"Topic1\", \"Topic1\", \"Topic1\", \"Topic1\", \"Topic1\", \"Topic1\", \"Topic1\", \"Topic1\", \"Topic1\", \"Topic1\", \"Topic1\", \"Topic1\", \"Topic1\", \"Topic1\", \"Topic1\", \"Topic1\", \"Topic1\", \"Topic1\", \"Topic1\", \"Topic1\", \"Topic1\", \"Topic1\", \"Topic1\", \"Topic1\", \"Topic1\", \"Topic1\", \"Topic1\", \"Topic1\", \"Topic1\", \"Topic1\", \"Topic1\", \"Topic1\", \"Topic1\", \"Topic1\", \"Topic1\", \"Topic1\", \"Topic1\", \"Topic1\", \"Topic1\", \"Topic1\", \"Topic2\", \"Topic2\", \"Topic2\", \"Topic2\", \"Topic2\", \"Topic2\", \"Topic2\", \"Topic2\", \"Topic2\", \"Topic2\", \"Topic2\", \"Topic2\", \"Topic2\", \"Topic2\", \"Topic2\", \"Topic2\", \"Topic2\", \"Topic2\", \"Topic2\", \"Topic2\", \"Topic2\", \"Topic2\", \"Topic2\", \"Topic2\", \"Topic2\", \"Topic2\", \"Topic2\", \"Topic2\", \"Topic2\", \"Topic2\", \"Topic2\", \"Topic2\", \"Topic2\", \"Topic2\", \"Topic2\", \"Topic2\", \"Topic2\", \"Topic2\", \"Topic2\", \"Topic2\", \"Topic2\", \"Topic2\", \"Topic2\", \"Topic2\", \"Topic2\", \"Topic2\", \"Topic2\", \"Topic2\", \"Topic2\", \"Topic2\", \"Topic2\", \"Topic2\", \"Topic2\", \"Topic2\", \"Topic2\", \"Topic2\", \"Topic2\", \"Topic2\", \"Topic2\", \"Topic2\", \"Topic2\", \"Topic2\", \"Topic2\", \"Topic3\", \"Topic3\", \"Topic3\", \"Topic3\", \"Topic3\", \"Topic3\", \"Topic3\", \"Topic3\", \"Topic3\", \"Topic3\", \"Topic3\", \"Topic3\", \"Topic3\", \"Topic3\", \"Topic3\", \"Topic3\", \"Topic3\", \"Topic3\", \"Topic3\", \"Topic3\", \"Topic3\", \"Topic3\", \"Topic3\", \"Topic3\", \"Topic3\", \"Topic3\", \"Topic3\", \"Topic3\", \"Topic3\", \"Topic3\", \"Topic3\", \"Topic3\", \"Topic3\", \"Topic3\", \"Topic3\", \"Topic3\", \"Topic3\", \"Topic3\", \"Topic3\", \"Topic3\", \"Topic3\", \"Topic3\", \"Topic3\", \"Topic3\", \"Topic3\", \"Topic3\", \"Topic3\", \"Topic3\", \"Topic3\", \"Topic3\", \"Topic3\", \"Topic3\", \"Topic3\", \"Topic3\", \"Topic3\", \"Topic3\", \"Topic3\", \"Topic3\", \"Topic3\", \"Topic3\", \"Topic3\", \"Topic3\", \"Topic3\", \"Topic3\", \"Topic3\", \"Topic3\", \"Topic3\", \"Topic3\", \"Topic3\", \"Topic3\"], \"logprob\": [30.0, 29.0, 28.0, 27.0, 26.0, 25.0, 24.0, 23.0, 22.0, 21.0, 20.0, 19.0, 18.0, 17.0, 16.0, 15.0, 14.0, 13.0, 12.0, 11.0, 10.0, 9.0, 8.0, 7.0, 6.0, 5.0, 4.0, 3.0, 2.0, 1.0, -5.1909, -5.4653, -5.6371, -5.6372, -5.8448, -5.8448, -5.8448, -5.8448, -5.8449, -6.1071, -6.1072, -6.1072, -6.1072, -6.1072, -6.1072, -6.1072, -6.1072, -6.1073, -6.1073, -5.3187, -4.9756, -5.4653, -6.4638, -6.4638, -6.4638, -6.4638, -6.4638, -6.4638, -6.4638, -6.4639, -4.3491, -5.3186, -3.4537, -3.8348, -5.4653, -5.8448, -5.8448, -4.4584, -4.2508, -4.4023, -4.8834, -4.9756, -4.119, -4.2506, -4.7207, -4.6483, -5.4653, -4.6484, -5.1908, -4.4583, -4.7208, -4.883, -4.9754, -5.0774, -4.9755, -4.9754, -5.3185, -5.3186, -5.3183, -5.4648, -5.465, -5.2136, -5.5932, -4.8258, -4.9391, -4.9392, -5.8554, -5.8555, -5.8555, -5.8556, -5.8556, -6.2121, -6.2121, -6.2121, -6.2121, -6.2121, -6.2121, -6.2122, -6.2122, -6.2122, -6.2121, -6.2122, -6.2122, -6.2122, -6.2122, -6.2122, -6.2122, -6.2122, -6.2122, -6.2122, -6.2122, -4.8256, -5.0669, -4.5472, -5.3855, -4.6318, -5.2136, -4.2662, -5.2135, -4.266, -4.939, -5.8555, -4.5471, -4.6316, -4.6315, -5.8553, -5.8554, -5.8555, -5.8555, -4.3967, -4.4689, -5.2135, -4.7239, -4.939, -5.3855, -4.266, -5.2136, -4.9391, -4.9392, -4.6314, -4.7239, -5.0667, -5.2132, -5.2131, -4.846, -5.8445, -5.8446, -5.488, -5.488, -5.0178, -6.4042, -6.4042, -6.4042, -6.4042, -6.4042, -6.4042, -6.4042, -6.4042, -6.4042, -6.4042, -6.4042, -6.4042, -6.4042, -6.4042, -6.4042, -6.4042, -6.4042, -6.4042, -6.4042, -6.4042, -6.4042, -6.4042, -6.4042, -6.4042, -6.4042, -3.73, -5.4878, -5.8445, -5.8445, -5.8445, -5.8446, -5.8446, -5.8446, -3.8392, -4.3563, -4.1015, -4.846, -4.3564, -4.4582, -5.4878, -4.1795, -5.4878, -5.4878, -5.4878, -4.4581, -4.5714, -4.6994, -4.8459, -5.4878, -4.0292, -4.5713, -4.6993, -4.458, -4.6991, -4.4583, -4.8458, -5.0176, -5.2253, -5.2252, -5.4876, -5.4877, -5.4877, -5.4877, -5.4877], \"loglift\": [30.0, 29.0, 28.0, 27.0, 26.0, 25.0, 24.0, 23.0, 22.0, 21.0, 20.0, 19.0, 18.0, 17.0, 16.0, 15.0, 14.0, 13.0, 12.0, 11.0, 10.0, 9.0, 8.0, 7.0, 6.0, 5.0, 4.0, 3.0, 2.0, 1.0, 0.6985, 0.6784, 0.6629, 0.6629, 0.6407, 0.6407, 0.6407, 0.6407, 0.6407, 0.6063, 0.6063, 0.6062, 0.6062, 0.6062, 0.6062, 0.6062, 0.6062, 0.6062, 0.6062, 0.5785, 0.5646, 0.552, 0.5452, 0.5452, 0.5452, 0.5452, 0.5452, 0.5452, 0.5452, 0.5452, 0.526, 0.4928, 0.3201, 0.324, 0.4558, 0.4912, 0.4912, 0.287, 0.1937, 0.2203, 0.3023, 0.3235, 0.0929, 0.0865, 0.2127, 0.1886, 0.3681, 0.049, 0.251, -0.0585, -0.0033, -0.1327, -0.1369, -0.0603, -0.1833, -0.3689, 0.0988, 0.0265, -0.5025, -0.2831, 0.0459, 0.9922, 0.9505, 0.9405, 0.9241, 0.924, 0.9127, 0.9127, 0.9127, 0.9126, 0.9126, 0.8459, 0.8458, 0.8458, 0.8458, 0.8458, 0.8458, 0.8458, 0.8458, 0.8458, 0.8458, 0.8458, 0.8458, 0.8458, 0.8458, 0.8458, 0.8458, 0.8458, 0.8458, 0.8458, 0.8457, 0.8274, 0.7663, 0.6345, 0.6958, 0.5056, 0.6123, 0.3403, 0.5529, 0.2595, 0.406, 0.7188, 0.2032, 0.1843, 0.1606, 0.6736, 0.6735, 0.6735, 0.6734, -0.0596, -0.0691, 0.3082, -0.0064, 0.0781, 0.3337, -0.4922, 0.2037, -0.1006, -0.1023, -0.4725, -0.5119, -0.3693, -0.5906, -0.7687, 1.4974, 1.3193, 1.3192, 1.1502, 1.1502, 1.1422, 1.1421, 1.1421, 1.1421, 1.1421, 1.1421, 1.1421, 1.1421, 1.1421, 1.1421, 1.1421, 1.1421, 1.1421, 1.1421, 1.1421, 1.1421, 1.1421, 1.1421, 1.1421, 1.1421, 1.1421, 1.1421, 1.1421, 1.1421, 1.1421, 1.1421, 0.7956, 0.9241, 0.9818, 0.9818, 0.9817, 0.9817, 0.9817, 0.9817, 0.3727, 0.4595, 0.343, 0.5694, 0.341, 0.3803, 0.7732, 0.2204, 0.762, 0.7619, 0.7508, 0.1645, 0.174, 0.234, 0.2916, 0.6223, -0.2554, 0.0352, 0.0929, -0.1209, 0.0183, -0.2994, -0.0954, -0.0005, 0.2166, -0.3884, 0.0341, -0.1886, 0.2787, -0.302, 0.2856]}, \"token.table\": {\"Topic\": [1, 2, 3, 1, 2, 1, 2, 1, 2, 3, 1, 2, 1, 2, 3, 2, 1, 2, 3, 1, 1, 2, 1, 2, 3, 1, 2, 1, 2, 1, 3, 1, 3, 1, 2, 3, 3, 1, 3, 1, 2, 3, 2, 1, 1, 2, 3, 3, 2, 1, 1, 1, 3, 3, 1, 2, 3, 2, 1, 2, 3, 1, 2, 3, 3, 1, 2, 3, 1, 2, 3, 3, 1, 3, 1, 3, 1, 2, 3, 1, 2, 3, 1, 2, 3, 1, 2, 3, 3, 2, 3, 3, 1, 2, 1, 2, 3, 1, 2, 2, 3, 3, 1, 3, 1, 2, 3, 1, 1, 2, 3, 2, 1, 2, 3, 3, 1, 3, 3, 2, 2, 1, 1, 2, 3, 3, 3, 1, 1, 3, 2, 2, 3, 1, 1, 2, 3, 2, 1, 2, 1, 2, 3, 2, 3, 3, 1, 2, 3, 2, 1, 2, 2, 1, 2, 3, 1, 2, 1, 1, 2, 3, 2, 3, 1, 3, 1, 2, 3, 1, 2, 3, 3, 1, 1, 1, 3, 1, 2, 3, 1, 2, 3, 1, 2, 3, 1, 2, 3, 1, 1, 2, 3, 1, 2, 3, 2, 3, 1, 1, 2, 3, 3, 2, 1, 2, 3, 2, 2, 2, 2, 2, 3, 1, 2, 3, 1, 2, 3, 1, 2, 1, 2, 3, 1, 2, 3, 1, 3, 3, 1, 1, 2, 1, 3, 1, 1, 1, 2, 3, 1, 2, 3, 1, 2, 2, 1, 3, 2, 1, 2, 3, 2, 1, 2, 3, 3, 1, 2, 3], \"Freq\": [0.8998540248723931, 0.5536508353826025, 0.27682541769130126, 0.4858435572910446, 0.4858435572910446, 0.2645551118571612, 0.5291102237143224, 0.2898724891398911, 0.4831208152331518, 0.19324832609326073, 0.954467819424526, 0.8980433872123892, 0.6187015865498435, 0.15467539663746088, 0.15467539663746088, 0.8980465329057594, 0.8439607509218311, 0.14066012515363852, 0.7317187860116026, 0.7599616975274812, 0.3438877095050735, 0.6189978771091323, 0.40020701317990637, 0.20010350658995318, 0.40020701317990637, 0.22035975596453672, 0.7712591458758785, 0.8551790551449562, 0.898051417100076, 0.855177793065245, 0.7317143055107386, 0.47070582507918807, 0.47070582507918807, 0.5593429248400041, 0.1645126249529424, 0.2632201999247078, 0.7317163334006952, 0.8551841311546173, 0.4991398762674841, 0.46668035509109146, 0.3500102663183186, 0.1750051331591593, 0.8055255751401396, 0.9544713043746735, 0.5222274324688523, 0.4351895270573769, 0.08703790541147538, 0.7317169943050505, 0.8980633085121656, 0.8551796057707105, 0.7599598212991947, 0.35616195750172996, 0.35616195750172996, 0.7317159545064404, 0.2862154066892738, 0.38162054225236514, 0.3339179744708195, 0.8980429769682633, 0.621405975405235, 0.20713532513507832, 0.13809021675671887, 0.6223936807726409, 0.13337007445128019, 0.22228345741880032, 0.7317179675478814, 0.6597664894602434, 0.13195329789204868, 0.13195329789204868, 0.7745794191359516, 0.12909656985599194, 0.12909656985599194, 0.7317161382352179, 0.6544124367206221, 0.21813747890687402, 0.8551805051738178, 0.8790132595324668, 0.6393872670087511, 0.2019117685290793, 0.15143382639680947, 0.197388432310769, 0.5263691528287173, 0.26318457641435866, 0.5898002538608008, 0.19660008462026696, 0.23592010154432033, 0.20236369671121676, 0.4047273934224335, 0.4047273934224335, 0.7317151224787062, 0.8980629365305481, 0.7317184426441179, 0.7317166085839253, 0.2645540277714889, 0.5291080555429778, 0.40209832946642227, 0.40209832946642227, 0.17871036865174325, 0.4708636615551267, 0.4708636615551267, 0.8980507675075283, 0.7317152086743579, 0.7317161095690292, 0.3561575197697745, 0.3561575197697745, 0.7202900923361358, 0.14405801846722716, 0.14405801846722716, 0.954463416008735, 0.2606160077962535, 0.34748801039500465, 0.34748801039500465, 0.8980422539954348, 0.5215387382943121, 0.20861549531772486, 0.28684630606187167, 0.731716474319222, 0.6544090585459907, 0.21813635284866356, 0.4991447323350605, 0.898048957842092, 0.957572075836331, 0.7599637054515364, 0.26455590744010066, 0.5291118148802013, 0.7317157536274604, 0.7317154562469262, 0.7317189793053235, 0.8551828914266087, 0.35615807160598056, 0.35615807160598056, 0.8980594868879112, 0.6721211616167488, 0.7317182211293262, 0.9769209581579937, 0.5024437079985695, 0.3251106345873097, 0.17733307341125984, 0.8980578812081268, 0.8098258547668377, 0.20245646369170942, 0.10705091805877794, 0.42820367223511174, 0.42820367223511174, 0.29509257191062876, 0.5901851438212575, 0.7317169024402741, 0.3903550868285899, 0.2927663151214424, 0.2927663151214424, 0.6721153305925851, 0.7599594751807807, 0.8980632454073091, 0.898056113627041, 0.3726772338570791, 0.3726772338570791, 0.23292327116067443, 0.39294168431058385, 0.6549028071843064, 0.9544752662036214, 0.26455446652269043, 0.5291089330453809, 0.7317140728572259, 0.8157210654391663, 0.1359535109065277, 0.35615809741584936, 0.35615809741584936, 0.3702060191881466, 0.24680401279209774, 0.24680401279209774, 0.5901453945778407, 0.16094874397577472, 0.2682479066262912, 0.7317141695174721, 0.9544644851987846, 0.8417459634073235, 0.5936604543820015, 0.3957736362546677, 0.4405474077953661, 0.31467671985383294, 0.25174137588306633, 0.1690918579646729, 0.6763674318586916, 0.1690918579646729, 0.18293090844254972, 0.18293090844254972, 0.5487927253276492, 0.4002056202566733, 0.20010281012833664, 0.4002056202566733, 0.9544610361768947, 0.6244731405340836, 0.1784208972954525, 0.2676313459431787, 0.584567932616229, 0.2922839663081145, 0.14614198315405724, 0.8157215538531786, 0.13595359230886309, 0.9544657795813684, 0.5084737424074944, 0.211864059336456, 0.2966096830710384, 0.7317180167438271, 0.8980618979402549, 0.7874342623226798, 0.09842928279033497, 0.09842928279033497, 0.6721224724246732, 0.8980451364354621, 0.6721289607562908, 0.8980459750519462, 0.8637631207607195, 0.12339473153724563, 0.309525872408928, 0.464288808613392, 0.19345367025558, 0.47795692888233776, 0.28677415732940265, 0.1911827715529351, 0.7930316662212377, 0.15860633324424753, 0.6429574817256974, 0.1978330713002146, 0.14837480347516097, 0.37277415330844055, 0.37277415330844055, 0.24851610220562703, 0.8551837833443775, 0.7317148947762033, 0.7317154872647406, 0.9544655406834673, 0.9544693844726209, 0.8980576585815864, 0.3561617970430697, 0.3561617970430697, 0.8417492617352227, 0.8551817976577806, 0.3480651500919058, 0.3480651500919058, 0.3480651500919058, 0.7599665411117368, 0.29509168974702327, 0.5901833794940465, 0.954469806365722, 0.8980590600519852, 0.8980608992234185, 0.3561612739686066, 0.3561612739686066, 0.8980648180285075, 0.24680022530688167, 0.6170005632672042, 0.12340011265344084, 0.6721153912626344, 0.4755552130227538, 0.34585833674382094, 0.21616146046488807, 0.7317143638559542, 0.2638925979537353, 0.6597314948843384, 0.7317174045764706], \"Term\": [\"\\\"\", \"...\", \"...\", \"Chashu\", \"Chashu\", \"Gaysorn\", \"Gaysorn\", \"Itto\", \"Itto\", \"Itto\", \"Mazemen\", \"Pork\", \"Ramen\", \"Ramen\", \"Ramen\", \"Rosu\", \"Shio\", \"Shio\", \"ShioRamen\", \"Signature\", \"Tsukemen\", \"Tsukemen\", \"tsukemen\", \"tsukemen\", \"tsukemen\", \"\\u0e01\\u0e01\", \"\\u0e01\\u0e01\", \"\\u0e01\\u0e23\\u0e30\\u0e14\\u0e39\\u0e01\", \"\\u0e01\\u0e23\\u0e38\\u0e07\\u0e40\\u0e17\\u0e1e\", \"\\u0e01\\u0e25\\u0e31\\u0e27\", \"\\u0e01\\u0e25\\u0e49\\u0e32\", \"\\u0e01\\u0e33\\u0e25\\u0e31\\u0e07\\u0e14\\u0e35\", \"\\u0e01\\u0e33\\u0e25\\u0e31\\u0e07\\u0e14\\u0e35\", \"\\u0e01\\u0e34\\u0e19\", \"\\u0e01\\u0e34\\u0e19\", \"\\u0e01\\u0e34\\u0e19\", \"\\u0e02\\u0e19\\u0e21\\u0e08\\u0e35\\u0e19\", \"\\u0e02\\u0e19\\u0e21\\u0e2b\\u0e27\\u0e32\\u0e19\", \"\\u0e02\\u0e19\\u0e32\\u0e14\", \"\\u0e04\\u0e19\", \"\\u0e04\\u0e19\", \"\\u0e04\\u0e19\", \"\\u0e04\\u0e27\\u0e32\\u0e21\\u0e21\\u0e31\\u0e19\", \"\\u0e04\\u0e2d\", \"\\u0e04\\u0e34\\u0e27\", \"\\u0e04\\u0e34\\u0e27\", \"\\u0e04\\u0e34\\u0e27\", \"\\u0e08\\u0e21\\u0e39\\u0e01\", \"\\u0e08\\u0e2d\\u0e07\", \"\\u0e08\\u0e32\\u0e07\", \"\\u0e08\\u0e32\\u0e19\", \"\\u0e0a\\u0e21\", \"\\u0e0a\\u0e21\", \"\\u0e0a\\u0e21\\u0e1e\\u0e39\", \"\\u0e0a\\u0e2d\\u0e1a\", \"\\u0e0a\\u0e2d\\u0e1a\", \"\\u0e0a\\u0e2d\\u0e1a\", \"\\u0e0a\\u0e31\\u0e48\\u0e27\\u0e42\\u0e21\\u0e07\", \"\\u0e0a\\u0e32\\u0e0a\\u0e39\", \"\\u0e0a\\u0e32\\u0e0a\\u0e39\", \"\\u0e0a\\u0e32\\u0e0a\\u0e39\", \"\\u0e0a\\u0e32\\u0e21\", \"\\u0e0a\\u0e32\\u0e21\", \"\\u0e0a\\u0e32\\u0e21\", \"\\u0e0a\\u0e34\\u0e14\", \"\\u0e0a\\u0e34\\u0e21\", \"\\u0e0a\\u0e34\\u0e21\", \"\\u0e0a\\u0e34\\u0e21\", \"\\u0e0a\\u0e34\\u0e49\\u0e19\", \"\\u0e0a\\u0e34\\u0e49\\u0e19\", \"\\u0e0a\\u0e34\\u0e49\\u0e19\", \"\\u0e0a\\u0e37\\u0e48\\u0e2d\", \"\\u0e0b\\u0e14\", \"\\u0e0b\\u0e14\", \"\\u0e0b\\u0e36\\u0e40\\u0e04\\u0e30\", \"\\u0e0b\\u0e38\\u0e1a\", \"\\u0e0b\\u0e38\\u0e1b\", \"\\u0e0b\\u0e38\\u0e1b\", \"\\u0e0b\\u0e38\\u0e1b\", \"\\u0e0d\\u0e35\\u0e48\\u0e1b\\u0e38\\u0e48\\u0e19\", \"\\u0e0d\\u0e35\\u0e48\\u0e1b\\u0e38\\u0e48\\u0e19\", \"\\u0e0d\\u0e35\\u0e48\\u0e1b\\u0e38\\u0e48\\u0e19\", \"\\u0e14\\u0e35\", \"\\u0e14\\u0e35\", \"\\u0e14\\u0e35\", \"\\u0e14\\u0e39\", \"\\u0e14\\u0e39\", \"\\u0e14\\u0e39\", \"\\u0e14\\u0e49\\u0e2d\\u0e22\", \"\\u0e15\\u0e32\", \"\\u0e16\\u0e19\\u0e31\\u0e14\", \"\\u0e16\\u0e39\\u0e01\\u0e1b\\u0e32\\u0e01\", \"\\u0e16\\u0e49\\u0e27\\u0e22\", \"\\u0e16\\u0e49\\u0e27\\u0e22\", \"\\u0e17\\u0e32\\u0e19\", \"\\u0e17\\u0e32\\u0e19\", \"\\u0e17\\u0e32\\u0e19\", \"\\u0e17\\u0e33\", \"\\u0e17\\u0e33\", \"\\u0e17\\u0e35\\u0e48\\u0e08\\u0e2d\\u0e14\\u0e23\\u0e16\", \"\\u0e17\\u0e35\\u0e48\\u0e2a\\u0e2d\\u0e07\", \"\\u0e17\\u0e35\\u0e48\\u0e2a\\u0e32\\u0e21\", \"\\u0e18\\u0e23\\u0e23\\u0e21\\u0e14\\u0e32\", \"\\u0e18\\u0e23\\u0e23\\u0e21\\u0e14\\u0e32\", \"\\u0e19\\u0e30\\u0e04\\u0e30\", \"\\u0e19\\u0e30\\u0e04\\u0e30\", \"\\u0e19\\u0e30\\u0e04\\u0e30\", \"\\u0e19\\u0e34\\u0e48\\u0e21\", \"\\u0e19\\u0e38\\u0e48\\u0e21\", \"\\u0e19\\u0e38\\u0e48\\u0e21\", \"\\u0e19\\u0e38\\u0e48\\u0e21\", \"\\u0e19\\u0e48\\u0e32\\u0e08\\u0e30\\u0e40\\u0e1b\\u0e47\\u0e19\", \"\\u0e19\\u0e49\\u0e33\", \"\\u0e19\\u0e49\\u0e33\", \"\\u0e19\\u0e49\\u0e33\", \"\\u0e1a\\u0e23\\u0e23\\u0e14\\u0e32\", \"\\u0e1b\\u0e25\\u0e32\", \"\\u0e1b\\u0e25\\u0e32\", \"\\u0e1b\\u0e31\\u0e07\", \"\\u0e1b\\u0e35\", \"\\u0e1c\\u0e21\", \"\\u0e1c\\u0e34\\u0e14\\u0e2b\\u0e27\\u0e31\\u0e07\", \"\\u0e1e\\u0e23\\u0e34\\u0e01\", \"\\u0e1e\\u0e23\\u0e34\\u0e01\", \"\\u0e1e\\u0e2d\\u0e44\\u0e14\\u0e49\", \"\\u0e21\\u0e25\\u0e30\", \"\\u0e21\\u0e30\\u0e15\\u0e39\\u0e21\", \"\\u0e21\\u0e35\\u0e23\\u0e2a\", \"\\u0e22\\u0e31\\u0e07\\u0e21\\u0e35\", \"\\u0e22\\u0e31\\u0e07\\u0e21\\u0e35\", \"\\u0e22\\u0e38\", \"\\u0e22\\u0e49\\u0e32\\u0e22\", \"\\u0e23\\u0e16\\u0e44\\u0e1f\\u0e1f\\u0e49\\u0e32\", \"\\u0e23\\u0e2a\", \"\\u0e23\\u0e2a\\u0e0a\\u0e32\\u0e15\\u0e34\", \"\\u0e23\\u0e2a\\u0e0a\\u0e32\\u0e15\\u0e34\", \"\\u0e23\\u0e2a\\u0e0a\\u0e32\\u0e15\\u0e34\", \"\\u0e23\\u0e32\\u0e14\", \"\\u0e23\\u0e32\\u0e40\\u0e21\\u0e07\", \"\\u0e23\\u0e32\\u0e40\\u0e21\\u0e07\", \"\\u0e23\\u0e32\\u0e40\\u0e21\\u0e19\", \"\\u0e23\\u0e32\\u0e40\\u0e21\\u0e19\", \"\\u0e23\\u0e32\\u0e40\\u0e21\\u0e19\", \"\\u0e23\\u0e35\\u0e27\\u0e34\\u0e27\", \"\\u0e23\\u0e35\\u0e27\\u0e34\\u0e27\", \"\\u0e25\\u0e21\", \"\\u0e25\\u0e2d\\u0e07\", \"\\u0e25\\u0e2d\\u0e07\", \"\\u0e25\\u0e2d\\u0e07\", \"\\u0e25\\u0e34\\u0e49\\u0e19\", \"\\u0e25\\u0e37\\u0e21\", \"\\u0e25\\u0e48\\u0e27\\u0e07\\u0e2b\\u0e19\\u0e49\\u0e32\", \"\\u0e27\\u0e32\", \"\\u0e2a\\u0e31\\u0e48\\u0e07\", \"\\u0e2a\\u0e31\\u0e48\\u0e07\", \"\\u0e2a\\u0e31\\u0e48\\u0e07\", \"\\u0e2a\\u0e32\\u0e02\\u0e32\", \"\\u0e2a\\u0e32\\u0e02\\u0e32\", \"\\u0e2a\\u0e32\\u0e2b\\u0e23\\u0e48\\u0e32\\u0e22\", \"\\u0e2a\\u0e33\\u0e2b\\u0e23\\u0e31\\u0e1a\", \"\\u0e2a\\u0e33\\u0e2b\\u0e23\\u0e31\\u0e1a\", \"\\u0e2a\\u0e35\", \"\\u0e2a\\u0e36\", \"\\u0e2a\\u0e36\", \"\\u0e2a\\u0e38\\u0e14\\u0e17\\u0e49\\u0e32\\u0e22\", \"\\u0e2a\\u0e38\\u0e14\\u0e17\\u0e49\\u0e32\\u0e22\", \"\\u0e2a\\u0e48\\u0e27\\u0e19\\u0e15\\u0e31\\u0e27\", \"\\u0e2a\\u0e48\\u0e27\\u0e19\\u0e15\\u0e31\\u0e27\", \"\\u0e2a\\u0e48\\u0e27\\u0e19\\u0e15\\u0e31\\u0e27\", \"\\u0e2b\\u0e21\\u0e39\", \"\\u0e2b\\u0e21\\u0e39\", \"\\u0e2b\\u0e21\\u0e39\", \"\\u0e2b\\u0e25\\u0e31\\u0e01\", \"\\u0e2b\\u0e27\\u0e32\\u0e19\", \"\\u0e2b\\u0e34\\u0e27\", \"\\u0e2d\\u0e01\\u0e44\\u0e01\\u0e48\", \"\\u0e2d\\u0e01\\u0e44\\u0e01\\u0e48\", \"\\u0e2d\\u0e23\\u0e48\\u0e2d\\u0e22\", \"\\u0e2d\\u0e23\\u0e48\\u0e2d\\u0e22\", \"\\u0e2d\\u0e23\\u0e48\\u0e2d\\u0e22\", \"\\u0e2d\\u0e31\\u0e19\\u0e14\\u0e31\\u0e1a\", \"\\u0e2d\\u0e31\\u0e19\\u0e14\\u0e31\\u0e1a\", \"\\u0e2d\\u0e31\\u0e19\\u0e14\\u0e31\\u0e1a\", \"\\u0e2d\\u0e31\\u0e19\\u0e19\\u0e35\\u0e49\", \"\\u0e2d\\u0e31\\u0e19\\u0e19\\u0e35\\u0e49\", \"\\u0e2d\\u0e31\\u0e19\\u0e19\\u0e35\\u0e49\", \"\\u0e40\\u0e01\\u0e25\\u0e37\\u0e2d\", \"\\u0e40\\u0e01\\u0e25\\u0e37\\u0e2d\", \"\\u0e40\\u0e01\\u0e25\\u0e37\\u0e2d\", \"\\u0e40\\u0e01\\u0e34\\u0e19\\u0e44\\u0e1b\", \"\\u0e40\\u0e01\\u0e35\\u0e4a\\u0e22\\u0e27\\u0e0b\\u0e48\\u0e32\", \"\\u0e40\\u0e01\\u0e35\\u0e4a\\u0e22\\u0e27\\u0e0b\\u0e48\\u0e32\", \"\\u0e40\\u0e01\\u0e35\\u0e4a\\u0e22\\u0e27\\u0e0b\\u0e48\\u0e32\", \"\\u0e40\\u0e02\\u0e49\\u0e21\\u0e02\\u0e49\\u0e19\", \"\\u0e40\\u0e02\\u0e49\\u0e21\\u0e02\\u0e49\\u0e19\", \"\\u0e40\\u0e02\\u0e49\\u0e21\\u0e02\\u0e49\\u0e19\", \"\\u0e40\\u0e04\", \"\\u0e40\\u0e04\", \"\\u0e40\\u0e04\\u0e23\\u0e37\\u0e48\\u0e2d\\u0e07\", \"\\u0e40\\u0e04\\u0e47\\u0e21\", \"\\u0e40\\u0e04\\u0e47\\u0e21\", \"\\u0e40\\u0e04\\u0e47\\u0e21\", \"\\u0e40\\u0e14\\u0e34\\u0e19\\u0e17\\u0e32\\u0e07\", \"\\u0e40\\u0e15\\u0e30\", \"\\u0e40\\u0e15\\u0e34\\u0e21\", \"\\u0e40\\u0e15\\u0e34\\u0e21\", \"\\u0e40\\u0e15\\u0e34\\u0e21\", \"\\u0e40\\u0e15\\u0e47\\u0e21\", \"\\u0e40\\u0e19\\u0e37\\u0e49\\u0e2d\\u0e17\\u0e35\\u0e48\", \"\\u0e40\\u0e1b\\u0e4b\\u0e32\\u0e2e\\u0e37\\u0e49\\u0e2d\", \"\\u0e40\\u0e1e\\u0e37\\u0e48\\u0e2d\\u0e19\", \"\\u0e40\\u0e21\\u0e19\", \"\\u0e40\\u0e21\\u0e19\", \"\\u0e40\\u0e21\\u0e19\\u0e39\", \"\\u0e40\\u0e21\\u0e19\\u0e39\", \"\\u0e40\\u0e21\\u0e19\\u0e39\", \"\\u0e40\\u0e22\\u0e47\\u0e19\", \"\\u0e40\\u0e22\\u0e47\\u0e19\", \"\\u0e40\\u0e22\\u0e47\\u0e19\", \"\\u0e40\\u0e2a\\u0e34\\u0e23\\u0e4c\\u0e1f\", \"\\u0e40\\u0e2a\\u0e34\\u0e23\\u0e4c\\u0e1f\", \"\\u0e40\\u0e2a\\u0e49\\u0e19\", \"\\u0e40\\u0e2a\\u0e49\\u0e19\", \"\\u0e40\\u0e2a\\u0e49\\u0e19\", \"\\u0e40\\u0e2b\\u0e21\\u0e37\\u0e2d\\u0e19\", \"\\u0e40\\u0e2b\\u0e21\\u0e37\\u0e2d\\u0e19\", \"\\u0e40\\u0e2b\\u0e21\\u0e37\\u0e2d\\u0e19\", \"\\u0e40\\u0e2b\\u0e21\\u0e37\\u0e2d\\u0e19\\u0e40\\u0e14\\u0e34\\u0e21\", \"\\u0e40\\u0e2b\\u0e25\\u0e37\\u0e2d\\u0e07\", \"\\u0e40\\u0e2d\\u0e32\\u0e40\\u0e1b\\u0e47\\u0e19\\u0e27\\u0e48\\u0e32\", \"\\u0e40\\u0e2d\\u0e4a\\u0e30\", \"\\u0e41\\u0e02\\u0e47\\u0e07\", \"\\u0e41\\u0e16\\u0e21\", \"\\u0e41\\u0e19\\u0e27\", \"\\u0e41\\u0e19\\u0e27\", \"\\u0e41\\u0e19\\u0e48\\u0e19\\u0e2d\\u0e19\", \"\\u0e41\\u0e19\\u0e48\\u0e46\", \"\\u0e41\\u0e1a\\u0e1a\\u0e19\\u0e35\\u0e49\", \"\\u0e41\\u0e1a\\u0e1a\\u0e19\\u0e35\\u0e49\", \"\\u0e41\\u0e1a\\u0e1a\\u0e19\\u0e35\\u0e49\", \"\\u0e41\\u0e1c\\u0e48\\u0e19\", \"\\u0e41\\u0e1f\\u0e19\", \"\\u0e41\\u0e1f\\u0e19\", \"\\u0e41\\u0e21\\u0e25\\u0e07\", \"\\u0e42\\u0e0a\", \"\\u0e42\\u0e17\\u0e23\", \"\\u0e42\\u0e2d\\u0e40\\u0e04\", \"\\u0e42\\u0e2d\\u0e40\\u0e04\", \"\\u0e42\\u0e2e\", \"\\u0e43\\u0e2a\\u0e48\", \"\\u0e43\\u0e2a\\u0e48\", \"\\u0e43\\u0e2a\\u0e48\", \"\\u0e43\\u0e2b\\u0e49\\u0e44\\u0e14\\u0e49\", \"\\u0e44\\u0e01\\u0e48\", \"\\u0e44\\u0e01\\u0e48\", \"\\u0e44\\u0e01\\u0e48\", \"\\u0e44\\u0e14\\u0e49\\u0e01\\u0e25\\u0e34\\u0e48\\u0e19\", \"\\u0e44\\u0e17\\u0e22\", \"\\u0e44\\u0e17\\u0e22\", \"\\u0e46++\"]}, \"R\": 30, \"lambda.step\": 0.01, \"plot.opts\": {\"xlab\": \"PC1\", \"ylab\": \"PC2\"}, \"topic.order\": [1, 3, 2]};\n",
              "\n",
              "function LDAvis_load_lib(url, callback){\n",
              "  var s = document.createElement('script');\n",
              "  s.src = url;\n",
              "  s.async = true;\n",
              "  s.onreadystatechange = s.onload = callback;\n",
              "  s.onerror = function(){console.warn(\"failed to load library \" + url);};\n",
              "  document.getElementsByTagName(\"head\")[0].appendChild(s);\n",
              "}\n",
              "\n",
              "if(typeof(LDAvis) !== \"undefined\"){\n",
              "   // already loaded: just create the visualization\n",
              "   !function(LDAvis){\n",
              "       new LDAvis(\"#\" + \"ldavis_el48731394046912465446751585104\", ldavis_el48731394046912465446751585104_data);\n",
              "   }(LDAvis);\n",
              "}else if(typeof define === \"function\" && define.amd){\n",
              "   // require.js is available: use it to load d3/LDAvis\n",
              "   require.config({paths: {d3: \"https://d3js.org/d3.v5\"}});\n",
              "   require([\"d3\"], function(d3){\n",
              "      window.d3 = d3;\n",
              "      LDAvis_load_lib(\"https://cdn.jsdelivr.net/gh/bmabey/pyLDAvis@3.4.0/pyLDAvis/js/ldavis.v3.0.0.js\", function(){\n",
              "        new LDAvis(\"#\" + \"ldavis_el48731394046912465446751585104\", ldavis_el48731394046912465446751585104_data);\n",
              "      });\n",
              "    });\n",
              "}else{\n",
              "    // require.js not available: dynamically load d3 & LDAvis\n",
              "    LDAvis_load_lib(\"https://d3js.org/d3.v5.js\", function(){\n",
              "         LDAvis_load_lib(\"https://cdn.jsdelivr.net/gh/bmabey/pyLDAvis@3.4.0/pyLDAvis/js/ldavis.v3.0.0.js\", function(){\n",
              "                 new LDAvis(\"#\" + \"ldavis_el48731394046912465446751585104\", ldavis_el48731394046912465446751585104_data);\n",
              "            })\n",
              "         });\n",
              "}\n",
              "</script>"
            ]
          },
          "metadata": {},
          "execution_count": 60
        }
      ]
    },
    {
      "cell_type": "markdown",
      "source": [
        "### Topic label and scoring\n",
        "- adding score back to review and further usage"
      ],
      "metadata": {
        "id": "iM4jlBbqWshe"
      }
    },
    {
      "cell_type": "code",
      "source": [
        "model.show_topic(0)"
      ],
      "metadata": {
        "colab": {
          "base_uri": "https://localhost:8080/"
        },
        "id": "wy9ixEekW4X0",
        "outputId": "5f0b6138-69ca-4efe-925a-75b5611a2c6f"
      },
      "execution_count": 61,
      "outputs": [
        {
          "output_type": "execute_result",
          "data": {
            "text/plain": [
              "[('ซุป', 0.031627957),\n",
              " ('เส้น', 0.021605007),\n",
              " ('น้ำ', 0.016260477),\n",
              " ('รสชาติ', 0.014255003),\n",
              " ('กิน', 0.014253449),\n",
              " ('ราเมง', 0.012917789),\n",
              " ('ดี', 0.012248907),\n",
              " ('อร่อย', 0.0115820505),\n",
              " ('ชาม', 0.011580608),\n",
              " ('เข้มข้น', 0.009577993)]"
            ]
          },
          "metadata": {},
          "execution_count": 61
        }
      ]
    },
    {
      "cell_type": "code",
      "source": [
        "model.show_topic(1)"
      ],
      "metadata": {
        "colab": {
          "base_uri": "https://localhost:8080/"
        },
        "id": "J232jC1_d9lI",
        "outputId": "f3af2289-a059-4b02-8893-80ef97dbbbb6"
      },
      "execution_count": 62,
      "outputs": [
        {
          "output_type": "execute_result",
          "data": {
            "text/plain": [
              "[('ราเมน', 0.023993421),\n",
              " ('น้ำ', 0.021510953),\n",
              " ('ซุป', 0.017787924),\n",
              " ('กิน', 0.016548363),\n",
              " ('อร่อย', 0.015306342),\n",
              " ('ชอบ', 0.01282546),\n",
              " ('เค็ม', 0.012824237),\n",
              " ('รสชาติ', 0.0115849525),\n",
              " ('ดี', 0.011584103),\n",
              " ('ลอง', 0.011583128)]"
            ]
          },
          "metadata": {},
          "execution_count": 62
        }
      ]
    },
    {
      "cell_type": "code",
      "source": [
        "model.show_topic(2)"
      ],
      "metadata": {
        "colab": {
          "base_uri": "https://localhost:8080/"
        },
        "id": "9o4VCVyXd94P",
        "outputId": "3e752849-eef1-4d73-b835-29a8d11bdcbf"
      },
      "execution_count": 63,
      "outputs": [
        {
          "output_type": "execute_result",
          "data": {
            "text/plain": [
              "[('ซุป', 0.014038029),\n",
              " ('ราเมน', 0.0140372785),\n",
              " ('เมนู', 0.01403495),\n",
              " ('รสชาติ', 0.0123176),\n",
              " ('อร่อย', 0.011459885),\n",
              " ('ทาน', 0.01059747),\n",
              " ('Tsukemen', 0.010596579),\n",
              " ('เส้น', 0.009741079),\n",
              " ('สั่ง', 0.009739685),\n",
              " ('ชอบ', 0.009739104)]"
            ]
          },
          "metadata": {},
          "execution_count": 63
        }
      ]
    },
    {
      "cell_type": "code",
      "source": [
        "# adding topic and score to df_tk for review\n",
        "df_tk['topic'] = df_tk['review_tokenized'].apply(lambda x: model.get_document_topics(dictionary.doc2bow(x.split(',')))[0][0])\n",
        "df_tk['score'] = df_tk['review_tokenized'].apply(lambda x: model.get_document_topics(dictionary.doc2bow(x.split(',')))[0][1])"
      ],
      "metadata": {
        "colab": {
          "base_uri": "https://localhost:8080/"
        },
        "id": "lnM9p-VSXTnG",
        "outputId": "72ddfea1-d826-40a8-c452-28764e439355"
      },
      "execution_count": 64,
      "outputs": [
        {
          "output_type": "stream",
          "name": "stderr",
          "text": [
            "<ipython-input-64-3fc6aed9c06e>:2: SettingWithCopyWarning: \n",
            "A value is trying to be set on a copy of a slice from a DataFrame.\n",
            "Try using .loc[row_indexer,col_indexer] = value instead\n",
            "\n",
            "See the caveats in the documentation: https://pandas.pydata.org/pandas-docs/stable/user_guide/indexing.html#returning-a-view-versus-a-copy\n",
            "  df_tk['topic'] = df_tk['review_tokenized'].apply(lambda x: model.get_document_topics(dictionary.doc2bow(x.split(',')))[0][0])\n",
            "<ipython-input-64-3fc6aed9c06e>:3: SettingWithCopyWarning: \n",
            "A value is trying to be set on a copy of a slice from a DataFrame.\n",
            "Try using .loc[row_indexer,col_indexer] = value instead\n",
            "\n",
            "See the caveats in the documentation: https://pandas.pydata.org/pandas-docs/stable/user_guide/indexing.html#returning-a-view-versus-a-copy\n",
            "  df_tk['score'] = df_tk['review_tokenized'].apply(lambda x: model.get_document_topics(dictionary.doc2bow(x.split(',')))[0][1])\n"
          ]
        }
      ]
    },
    {
      "cell_type": "code",
      "source": [
        "# topic mapping (naming for each topic)\n",
        "topic_mapping = {\n",
        "    0: \"foodie review\",\n",
        "    1: \"ramen lover\",\n",
        "    2: \"user experiances\",\n",
        "}\n",
        "\n",
        "df_tk['topic_title'] = df_tk['topic'].map(topic_mapping)"
      ],
      "metadata": {
        "id": "NLDpFbjXZKVW"
      },
      "execution_count": 69,
      "outputs": []
    },
    {
      "cell_type": "code",
      "source": [
        "df_tk.head(5)"
      ],
      "metadata": {
        "colab": {
          "base_uri": "https://localhost:8080/",
          "height": 206
        },
        "id": "rNLwCc-4YufQ",
        "outputId": "53015657-4aa2-4614-b41a-53f2f1053649"
      },
      "execution_count": 82,
      "outputs": [
        {
          "output_type": "execute_result",
          "data": {
            "text/plain": [
              "   review_id                                             review  \\\n",
              "0          1  No.1 from Tokyo\\nเมนูเด็ด: Chashu Noko Gyokai ...   \n",
              "1          2  สุดยอดราเมงร้านโปรดในไทย\\n\\nเมนูเส้นๆนี่เดลิเว...   \n",
              "2          3  ราเมงอันดับ1จากญี่ปุ่น\\nMenya Itto ร้านราเมงที...   \n",
              "3          4  เค็มนำ รสชาติแปลก เกี๊ยวซ่าดี ชาเขียวดีมีแมลงใ...   \n",
              "4          5  วันก่อนไปธุระที่เกษร ก็เลยแวะทานราเมนร้านดัง M...   \n",
              "\n",
              "                                    review_tokenized  topic     score  \\\n",
              "0  No,from,Tokyo,เมนู,เด็ด,Chashu,Noko,Gyokai,Ram...      0  0.999255   \n",
              "1  สุดยอด,ราเมง,โปรด,ไทย,เมนู,เส้น,เด,ลิ,เวอ,รี่,...      0  0.999591   \n",
              "2  ราเมง,อันดับ,ญี่ปุ่น,Menya,Itto,ราเมง,อันดับ,เ...      2  0.999387   \n",
              "3  เค็ม,รสชาติ,แปลก,เกี๊ยวซ่า,ดี,ชาเขียว,ดี,แมลง,...      0  0.999555   \n",
              "4  วันก่อน,ธุระ,เก,ษร,แวะ,ทาน,ราเมน,Menya,Itto,สา...      1  0.999063   \n",
              "\n",
              "        topic_title  rating  \n",
              "0     foodie review       4  \n",
              "1     foodie review       5  \n",
              "2  user experiances       4  \n",
              "3     foodie review       1  \n",
              "4       ramen lover       4  "
            ],
            "text/html": [
              "\n",
              "  <div id=\"df-d52ffb63-2d96-425e-b236-39259d3a7723\" class=\"colab-df-container\">\n",
              "    <div>\n",
              "<style scoped>\n",
              "    .dataframe tbody tr th:only-of-type {\n",
              "        vertical-align: middle;\n",
              "    }\n",
              "\n",
              "    .dataframe tbody tr th {\n",
              "        vertical-align: top;\n",
              "    }\n",
              "\n",
              "    .dataframe thead th {\n",
              "        text-align: right;\n",
              "    }\n",
              "</style>\n",
              "<table border=\"1\" class=\"dataframe\">\n",
              "  <thead>\n",
              "    <tr style=\"text-align: right;\">\n",
              "      <th></th>\n",
              "      <th>review_id</th>\n",
              "      <th>review</th>\n",
              "      <th>review_tokenized</th>\n",
              "      <th>topic</th>\n",
              "      <th>score</th>\n",
              "      <th>topic_title</th>\n",
              "      <th>rating</th>\n",
              "    </tr>\n",
              "  </thead>\n",
              "  <tbody>\n",
              "    <tr>\n",
              "      <th>0</th>\n",
              "      <td>1</td>\n",
              "      <td>No.1 from Tokyo\\nเมนูเด็ด: Chashu Noko Gyokai ...</td>\n",
              "      <td>No,from,Tokyo,เมนู,เด็ด,Chashu,Noko,Gyokai,Ram...</td>\n",
              "      <td>0</td>\n",
              "      <td>0.999255</td>\n",
              "      <td>foodie review</td>\n",
              "      <td>4</td>\n",
              "    </tr>\n",
              "    <tr>\n",
              "      <th>1</th>\n",
              "      <td>2</td>\n",
              "      <td>สุดยอดราเมงร้านโปรดในไทย\\n\\nเมนูเส้นๆนี่เดลิเว...</td>\n",
              "      <td>สุดยอด,ราเมง,โปรด,ไทย,เมนู,เส้น,เด,ลิ,เวอ,รี่,...</td>\n",
              "      <td>0</td>\n",
              "      <td>0.999591</td>\n",
              "      <td>foodie review</td>\n",
              "      <td>5</td>\n",
              "    </tr>\n",
              "    <tr>\n",
              "      <th>2</th>\n",
              "      <td>3</td>\n",
              "      <td>ราเมงอันดับ1จากญี่ปุ่น\\nMenya Itto ร้านราเมงที...</td>\n",
              "      <td>ราเมง,อันดับ,ญี่ปุ่น,Menya,Itto,ราเมง,อันดับ,เ...</td>\n",
              "      <td>2</td>\n",
              "      <td>0.999387</td>\n",
              "      <td>user experiances</td>\n",
              "      <td>4</td>\n",
              "    </tr>\n",
              "    <tr>\n",
              "      <th>3</th>\n",
              "      <td>4</td>\n",
              "      <td>เค็มนำ รสชาติแปลก เกี๊ยวซ่าดี ชาเขียวดีมีแมลงใ...</td>\n",
              "      <td>เค็ม,รสชาติ,แปลก,เกี๊ยวซ่า,ดี,ชาเขียว,ดี,แมลง,...</td>\n",
              "      <td>0</td>\n",
              "      <td>0.999555</td>\n",
              "      <td>foodie review</td>\n",
              "      <td>1</td>\n",
              "    </tr>\n",
              "    <tr>\n",
              "      <th>4</th>\n",
              "      <td>5</td>\n",
              "      <td>วันก่อนไปธุระที่เกษร ก็เลยแวะทานราเมนร้านดัง M...</td>\n",
              "      <td>วันก่อน,ธุระ,เก,ษร,แวะ,ทาน,ราเมน,Menya,Itto,สา...</td>\n",
              "      <td>1</td>\n",
              "      <td>0.999063</td>\n",
              "      <td>ramen lover</td>\n",
              "      <td>4</td>\n",
              "    </tr>\n",
              "  </tbody>\n",
              "</table>\n",
              "</div>\n",
              "    <div class=\"colab-df-buttons\">\n",
              "\n",
              "  <div class=\"colab-df-container\">\n",
              "    <button class=\"colab-df-convert\" onclick=\"convertToInteractive('df-d52ffb63-2d96-425e-b236-39259d3a7723')\"\n",
              "            title=\"Convert this dataframe to an interactive table.\"\n",
              "            style=\"display:none;\">\n",
              "\n",
              "  <svg xmlns=\"http://www.w3.org/2000/svg\" height=\"24px\" viewBox=\"0 -960 960 960\">\n",
              "    <path d=\"M120-120v-720h720v720H120Zm60-500h600v-160H180v160Zm220 220h160v-160H400v160Zm0 220h160v-160H400v160ZM180-400h160v-160H180v160Zm440 0h160v-160H620v160ZM180-180h160v-160H180v160Zm440 0h160v-160H620v160Z\"/>\n",
              "  </svg>\n",
              "    </button>\n",
              "\n",
              "  <style>\n",
              "    .colab-df-container {\n",
              "      display:flex;\n",
              "      gap: 12px;\n",
              "    }\n",
              "\n",
              "    .colab-df-convert {\n",
              "      background-color: #E8F0FE;\n",
              "      border: none;\n",
              "      border-radius: 50%;\n",
              "      cursor: pointer;\n",
              "      display: none;\n",
              "      fill: #1967D2;\n",
              "      height: 32px;\n",
              "      padding: 0 0 0 0;\n",
              "      width: 32px;\n",
              "    }\n",
              "\n",
              "    .colab-df-convert:hover {\n",
              "      background-color: #E2EBFA;\n",
              "      box-shadow: 0px 1px 2px rgba(60, 64, 67, 0.3), 0px 1px 3px 1px rgba(60, 64, 67, 0.15);\n",
              "      fill: #174EA6;\n",
              "    }\n",
              "\n",
              "    .colab-df-buttons div {\n",
              "      margin-bottom: 4px;\n",
              "    }\n",
              "\n",
              "    [theme=dark] .colab-df-convert {\n",
              "      background-color: #3B4455;\n",
              "      fill: #D2E3FC;\n",
              "    }\n",
              "\n",
              "    [theme=dark] .colab-df-convert:hover {\n",
              "      background-color: #434B5C;\n",
              "      box-shadow: 0px 1px 3px 1px rgba(0, 0, 0, 0.15);\n",
              "      filter: drop-shadow(0px 1px 2px rgba(0, 0, 0, 0.3));\n",
              "      fill: #FFFFFF;\n",
              "    }\n",
              "  </style>\n",
              "\n",
              "    <script>\n",
              "      const buttonEl =\n",
              "        document.querySelector('#df-d52ffb63-2d96-425e-b236-39259d3a7723 button.colab-df-convert');\n",
              "      buttonEl.style.display =\n",
              "        google.colab.kernel.accessAllowed ? 'block' : 'none';\n",
              "\n",
              "      async function convertToInteractive(key) {\n",
              "        const element = document.querySelector('#df-d52ffb63-2d96-425e-b236-39259d3a7723');\n",
              "        const dataTable =\n",
              "          await google.colab.kernel.invokeFunction('convertToInteractive',\n",
              "                                                    [key], {});\n",
              "        if (!dataTable) return;\n",
              "\n",
              "        const docLinkHtml = 'Like what you see? Visit the ' +\n",
              "          '<a target=\"_blank\" href=https://colab.research.google.com/notebooks/data_table.ipynb>data table notebook</a>'\n",
              "          + ' to learn more about interactive tables.';\n",
              "        element.innerHTML = '';\n",
              "        dataTable['output_type'] = 'display_data';\n",
              "        await google.colab.output.renderOutput(dataTable, element);\n",
              "        const docLink = document.createElement('div');\n",
              "        docLink.innerHTML = docLinkHtml;\n",
              "        element.appendChild(docLink);\n",
              "      }\n",
              "    </script>\n",
              "  </div>\n",
              "\n",
              "\n",
              "<div id=\"df-b8462b1a-079b-4f54-a949-e8ac0fc6e508\">\n",
              "  <button class=\"colab-df-quickchart\" onclick=\"quickchart('df-b8462b1a-079b-4f54-a949-e8ac0fc6e508')\"\n",
              "            title=\"Suggest charts.\"\n",
              "            style=\"display:none;\">\n",
              "\n",
              "<svg xmlns=\"http://www.w3.org/2000/svg\" height=\"24px\"viewBox=\"0 0 24 24\"\n",
              "     width=\"24px\">\n",
              "    <g>\n",
              "        <path d=\"M19 3H5c-1.1 0-2 .9-2 2v14c0 1.1.9 2 2 2h14c1.1 0 2-.9 2-2V5c0-1.1-.9-2-2-2zM9 17H7v-7h2v7zm4 0h-2V7h2v10zm4 0h-2v-4h2v4z\"/>\n",
              "    </g>\n",
              "</svg>\n",
              "  </button>\n",
              "\n",
              "<style>\n",
              "  .colab-df-quickchart {\n",
              "    background-color: #E8F0FE;\n",
              "    border: none;\n",
              "    border-radius: 50%;\n",
              "    cursor: pointer;\n",
              "    display: none;\n",
              "    fill: #1967D2;\n",
              "    height: 32px;\n",
              "    padding: 0 0 0 0;\n",
              "    width: 32px;\n",
              "  }\n",
              "\n",
              "  .colab-df-quickchart:hover {\n",
              "    background-color: #E2EBFA;\n",
              "    box-shadow: 0px 1px 2px rgba(60, 64, 67, 0.3), 0px 1px 3px 1px rgba(60, 64, 67, 0.15);\n",
              "    fill: #174EA6;\n",
              "  }\n",
              "\n",
              "  [theme=dark] .colab-df-quickchart {\n",
              "    background-color: #3B4455;\n",
              "    fill: #D2E3FC;\n",
              "  }\n",
              "\n",
              "  [theme=dark] .colab-df-quickchart:hover {\n",
              "    background-color: #434B5C;\n",
              "    box-shadow: 0px 1px 3px 1px rgba(0, 0, 0, 0.15);\n",
              "    filter: drop-shadow(0px 1px 2px rgba(0, 0, 0, 0.3));\n",
              "    fill: #FFFFFF;\n",
              "  }\n",
              "</style>\n",
              "\n",
              "  <script>\n",
              "    async function quickchart(key) {\n",
              "      const charts = await google.colab.kernel.invokeFunction(\n",
              "          'suggestCharts', [key], {});\n",
              "    }\n",
              "    (() => {\n",
              "      let quickchartButtonEl =\n",
              "        document.querySelector('#df-b8462b1a-079b-4f54-a949-e8ac0fc6e508 button');\n",
              "      quickchartButtonEl.style.display =\n",
              "        google.colab.kernel.accessAllowed ? 'block' : 'none';\n",
              "    })();\n",
              "  </script>\n",
              "</div>\n",
              "    </div>\n",
              "  </div>\n"
            ]
          },
          "metadata": {},
          "execution_count": 82
        }
      ]
    },
    {
      "cell_type": "code",
      "source": [
        "#export file\n",
        "df_tk.to_csv('final_outcome.csv', index=False)\n",
        "df_tk.to_excel('final_outcome.xlsx', index=False)"
      ],
      "metadata": {
        "id": "um_kWyVgeS9y"
      },
      "execution_count": 80,
      "outputs": []
    },
    {
      "cell_type": "markdown",
      "source": [
        "## Topic and rating score"
      ],
      "metadata": {
        "id": "Lw10QueOAbR-"
      }
    },
    {
      "cell_type": "code",
      "source": [
        "# adding topic and score to main df for analytic with the rating score\n",
        "df_tk['rating'] = df['rating']"
      ],
      "metadata": {
        "id": "CtrDfISIX4BS"
      },
      "execution_count": 79,
      "outputs": []
    },
    {
      "cell_type": "code",
      "source": [
        "df_tk.head(30)"
      ],
      "metadata": {
        "colab": {
          "base_uri": "https://localhost:8080/",
          "height": 990
        },
        "id": "VTNtyo5KDxdo",
        "outputId": "51d7e6a7-7fef-4577-f5fb-865bd67af2df"
      },
      "execution_count": 81,
      "outputs": [
        {
          "output_type": "execute_result",
          "data": {
            "text/plain": [
              "    review_id                                             review  \\\n",
              "0           1  No.1 from Tokyo\\nเมนูเด็ด: Chashu Noko Gyokai ...   \n",
              "1           2  สุดยอดราเมงร้านโปรดในไทย\\n\\nเมนูเส้นๆนี่เดลิเว...   \n",
              "2           3  ราเมงอันดับ1จากญี่ปุ่น\\nMenya Itto ร้านราเมงที...   \n",
              "3           4  เค็มนำ รสชาติแปลก เกี๊ยวซ่าดี ชาเขียวดีมีแมลงใ...   \n",
              "4           5  วันก่อนไปธุระที่เกษร ก็เลยแวะทานราเมนร้านดัง M...   \n",
              "5           6  The Best Tsukemen in Bangkok (พค 2022 ย้ายมา G...   \n",
              "6           7  หนึ่งในร้านราเมนที่คนรักราเมนคิดถึง โดยเฉพาะ ส...   \n",
              "7           8  ราเมนร้านดังจากโตเกียว\\n\\nจำได้ว่าตอนร้านเปิดใ...   \n",
              "8           9  \\nได้ยินชื่อเสียงของราเมนร้านนี้จากหลายๆท่านใน...   \n",
              "9          10  คิวยังยาวอยู่มั้ยคะ เห็นคิวเยอะคนรอนานมาก กลัว...   \n",
              "10         11               เห็นสีของหมูชมพู๊ชมพูค่ะ ไม่กล้ากิน    \n",
              "11         12  จุดเด่นของร้านคือ เส้น Homemade และน้ำซุปสูตรเ...   \n",
              "12         13  Ramen เจ้าดัง แต่ยังไม่ค่อยปังเท่าไร\\nร้านนี้ ...   \n",
              "13         14  รสชาติญี่ปุ่นๆแท้ \\nร้านราเมนชื่อดังจากญี่ปุ่น...   \n",
              "14         15  ไม่ค่อยประทับใจค่ะครั้งนี้ แอบผิดหวัง:(\\n‘Meny...   \n",
              "15         16  คุณภาพตกจนน่ากลัว\\nราคาต่อหัว: 251 - 500 บาท\\n...   \n",
              "16         17  เค็มมากกกกกกกกกกกก ทาน Chashu shio ramen เค็มม...   \n",
              "17         18  \\nร้านนี้เป็นร้านราเมนเจ้าดังมาก เค้าบอกกันว่า...   \n",
              "18         19  เส้นสึเคเมนเหนียวนุ่มอร่อยกับซุปไก่รสชาติเข้มข...   \n",
              "19         20  กลับไปซ้ำแน่นอน\\nร้านราเมงชื่อดัง ต้องห้ามพลาด...   \n",
              "20         21  ซุปดี เส้นใช้ได้ แต่ชาชูยังไม่โดนนะจ๊ะ\\nเมนูเด...   \n",
              "21         22  Ramen ที่อยากลองมานาน\\nเห็นใครๆ ก็รีวิวร้านราเ...   \n",
              "22         23                                  ราเมงอร่อย สะอาด    \n",
              "23         24  เส้นจะมีความแข็งมากกว่าที่อื่น รสชาติจะออกไปทา...   \n",
              "24         25  เมนู: ShioRamen, ไข่มะตูม\\nเส้นเหนียวนุ่ม รสชา...   \n",
              "25         26  Shio Ramen เข้มข้นด้วยรสไก่\\nวันก่อนมีธุระแถว ...   \n",
              "26         27  ซุปข้น (ทรัพย์จาง)\\nมาทานเป็นครั้งที่2 และลองท...   \n",
              "27         28  ราเมนซุปไก่ รสชาติดีใช้ได้\\nร้านอยู่ชั้นใต้ดิน...   \n",
              "28         29  อร่อยสมคำร่ำลือ\\nรีบไปจัด หลังจากที่พี่หยีคอนเ...   \n",
              "29         30  ร้านราเม็งชื่อดังจากญีปุ่่นมาเปิดสาขาควรลอง\\nร...   \n",
              "\n",
              "                                     review_tokenized  topic     score  \\\n",
              "0   No,from,Tokyo,เมนู,เด็ด,Chashu,Noko,Gyokai,Ram...      0  0.999255   \n",
              "1   สุดยอด,ราเมง,โปรด,ไทย,เมนู,เส้น,เด,ลิ,เวอ,รี่,...      0  0.999591   \n",
              "2   ราเมง,อันดับ,ญี่ปุ่น,Menya,Itto,ราเมง,อันดับ,เ...      2  0.999387   \n",
              "3   เค็ม,รสชาติ,แปลก,เกี๊ยวซ่า,ดี,ชาเขียว,ดี,แมลง,...      0  0.999555   \n",
              "4   วันก่อน,ธุระ,เก,ษร,แวะ,ทาน,ราเมน,Menya,Itto,สา...      1  0.999063   \n",
              "5   The,Best,Tsukemen,in,Bangkok,(พค,ย้าย,Gaysorn,...      2  0.999142   \n",
              "6   ราเมน,คนรัก,ราเมน,คิดถึง,โดยเฉพาะ,สึ,เค,เมน,แถ...      2  0.999585   \n",
              "7   ราเมน,โตเกียว,จำได้,ตอน,รอ,คิว,เมนู,signature,...      2  0.999463   \n",
              "8   ได้ยิน,ชื่อเสียง,ราเมน,ท่าน,วงใน,อันดับ,เว็บ,t...      1  0.999256   \n",
              "9                          คิว,คิว,คน,รอ,กลัว,รอ,เก,อ      0  0.993173   \n",
              "10                        สี,หมู,ชม,พู๊,ชมพู,กล้า,กิน      1  0.990866   \n",
              "11  จุดเด่น,เส้น,Homemade,น้ำ,ซุป,สูตร,แน่นอน,ลอง,...      0  0.999792   \n",
              "12  Ramen,เจ้า,ปัง,เมนู,ราเมน,หลัก,ลอง,สั่ง,tsukem...      1  0.999230   \n",
              "13  รสชาติ,ญี่ปุ่น,ราเมน,ชื่อดัง,ญี่ปุ่น,ทำการบ้าน...      1  0.999510   \n",
              "14  ประทับใจ,แอบ,ผิดหวัง,:(,Menya,Itto,เอราวัณ,ราเ...      0  0.999772   \n",
              "15  คุณภาพ,ตก,น่ากลัว,ราคา,เมนู,เด็ด,Tsukemen,Nood...      2  0.999117   \n",
              "16  เค็ม,กก,กก,กก,กก,กก,กก,ทาน,Chashu,shio,ramen,เ...      2  0.997780   \n",
              "17  ราเมน,เจ้า,เค้า,ราเมน,อันดับ,โตเกียว,🇯🇵,สาขา,ก...      2  0.999210   \n",
              "18  เส้น,สึ,เค,เมน,เหนียว,นุ่ม,อร่อย,ซุป,ไก่,รสชาต...      2  0.999739   \n",
              "19  ซ้ำ,แน่นอน,ราเมง,ชื่อดัง,ต้องห้าม,พลาด,ปกติ,คน...      0  0.999125   \n",
              "20  ซุป,ดี,เส้น,ใช้ได้,ชาชู,โดน,นะจ๊ะ,เมนู,เด็ด,Ch...      0  0.999579   \n",
              "21  Ramen,ลอง,รีวิว,ราเมน,เดือน,บังเอิญ,บูท,พารากอ...      1  0.998922   \n",
              "22                                  ราเมง,อร่อย,สะอาด      0  0.011274   \n",
              "23              เส้น,ความแข็ง,ที่อื่น,รสชาติ,ทาน,เค็ม      0  0.990930   \n",
              "24  เมนู,ShioRamen,,,ไข่,มะตูม,เส้น,เหนียว,นุ่ม,รส...      1  0.997068   \n",
              "25  Shio,Ramen,เข้มข้น,รส,ไก่,วันก่อน,มีธุระ,แถว,E...      0  0.998897   \n",
              "26  ซุป,ข้น,ทรัพย์,จาง,ทาน,ลอง,ทาน,ราเมง,ไปดู,สั่ง...      0  0.998960   \n",
              "27  ราเมน,ซุป,ไก่,รสชาติ,ดี,ใช้ได้,ชั้นใต้ดิน,เอรา...      1  0.998757   \n",
              "28  อร่อย,สม,ร่ำ,ลือ,รีบ,หลังจากที่,พี่,หยี,คอนเฟิ...      2  0.998571   \n",
              "29  ราเม็ง,ชื่อดัง,ญีปุ่่น,สาขา,ลอง,ราคา,Menya,Itt...      0  0.998960   \n",
              "\n",
              "         topic_title  rating  \n",
              "0      foodie review       4  \n",
              "1      foodie review       5  \n",
              "2   user experiances       4  \n",
              "3      foodie review       1  \n",
              "4        ramen lover       4  \n",
              "5   user experiances       4  \n",
              "6   user experiances       5  \n",
              "7   user experiances       4  \n",
              "8        ramen lover       3  \n",
              "9      foodie review       3  \n",
              "10       ramen lover       3  \n",
              "11     foodie review       5  \n",
              "12       ramen lover       3  \n",
              "13       ramen lover       3  \n",
              "14     foodie review       2  \n",
              "15  user experiances       1  \n",
              "16  user experiances       3  \n",
              "17  user experiances       3  \n",
              "18  user experiances       4  \n",
              "19     foodie review       5  \n",
              "20     foodie review       3  \n",
              "21       ramen lover       2  \n",
              "22     foodie review       5  \n",
              "23     foodie review       3  \n",
              "24       ramen lover       4  \n",
              "25     foodie review       3  \n",
              "26     foodie review       3  \n",
              "27       ramen lover       4  \n",
              "28  user experiances       5  \n",
              "29     foodie review       5  "
            ],
            "text/html": [
              "\n",
              "  <div id=\"df-76522387-0b38-4e5c-ae74-d03f700170c7\" class=\"colab-df-container\">\n",
              "    <div>\n",
              "<style scoped>\n",
              "    .dataframe tbody tr th:only-of-type {\n",
              "        vertical-align: middle;\n",
              "    }\n",
              "\n",
              "    .dataframe tbody tr th {\n",
              "        vertical-align: top;\n",
              "    }\n",
              "\n",
              "    .dataframe thead th {\n",
              "        text-align: right;\n",
              "    }\n",
              "</style>\n",
              "<table border=\"1\" class=\"dataframe\">\n",
              "  <thead>\n",
              "    <tr style=\"text-align: right;\">\n",
              "      <th></th>\n",
              "      <th>review_id</th>\n",
              "      <th>review</th>\n",
              "      <th>review_tokenized</th>\n",
              "      <th>topic</th>\n",
              "      <th>score</th>\n",
              "      <th>topic_title</th>\n",
              "      <th>rating</th>\n",
              "    </tr>\n",
              "  </thead>\n",
              "  <tbody>\n",
              "    <tr>\n",
              "      <th>0</th>\n",
              "      <td>1</td>\n",
              "      <td>No.1 from Tokyo\\nเมนูเด็ด: Chashu Noko Gyokai ...</td>\n",
              "      <td>No,from,Tokyo,เมนู,เด็ด,Chashu,Noko,Gyokai,Ram...</td>\n",
              "      <td>0</td>\n",
              "      <td>0.999255</td>\n",
              "      <td>foodie review</td>\n",
              "      <td>4</td>\n",
              "    </tr>\n",
              "    <tr>\n",
              "      <th>1</th>\n",
              "      <td>2</td>\n",
              "      <td>สุดยอดราเมงร้านโปรดในไทย\\n\\nเมนูเส้นๆนี่เดลิเว...</td>\n",
              "      <td>สุดยอด,ราเมง,โปรด,ไทย,เมนู,เส้น,เด,ลิ,เวอ,รี่,...</td>\n",
              "      <td>0</td>\n",
              "      <td>0.999591</td>\n",
              "      <td>foodie review</td>\n",
              "      <td>5</td>\n",
              "    </tr>\n",
              "    <tr>\n",
              "      <th>2</th>\n",
              "      <td>3</td>\n",
              "      <td>ราเมงอันดับ1จากญี่ปุ่น\\nMenya Itto ร้านราเมงที...</td>\n",
              "      <td>ราเมง,อันดับ,ญี่ปุ่น,Menya,Itto,ราเมง,อันดับ,เ...</td>\n",
              "      <td>2</td>\n",
              "      <td>0.999387</td>\n",
              "      <td>user experiances</td>\n",
              "      <td>4</td>\n",
              "    </tr>\n",
              "    <tr>\n",
              "      <th>3</th>\n",
              "      <td>4</td>\n",
              "      <td>เค็มนำ รสชาติแปลก เกี๊ยวซ่าดี ชาเขียวดีมีแมลงใ...</td>\n",
              "      <td>เค็ม,รสชาติ,แปลก,เกี๊ยวซ่า,ดี,ชาเขียว,ดี,แมลง,...</td>\n",
              "      <td>0</td>\n",
              "      <td>0.999555</td>\n",
              "      <td>foodie review</td>\n",
              "      <td>1</td>\n",
              "    </tr>\n",
              "    <tr>\n",
              "      <th>4</th>\n",
              "      <td>5</td>\n",
              "      <td>วันก่อนไปธุระที่เกษร ก็เลยแวะทานราเมนร้านดัง M...</td>\n",
              "      <td>วันก่อน,ธุระ,เก,ษร,แวะ,ทาน,ราเมน,Menya,Itto,สา...</td>\n",
              "      <td>1</td>\n",
              "      <td>0.999063</td>\n",
              "      <td>ramen lover</td>\n",
              "      <td>4</td>\n",
              "    </tr>\n",
              "    <tr>\n",
              "      <th>5</th>\n",
              "      <td>6</td>\n",
              "      <td>The Best Tsukemen in Bangkok (พค 2022 ย้ายมา G...</td>\n",
              "      <td>The,Best,Tsukemen,in,Bangkok,(พค,ย้าย,Gaysorn,...</td>\n",
              "      <td>2</td>\n",
              "      <td>0.999142</td>\n",
              "      <td>user experiances</td>\n",
              "      <td>4</td>\n",
              "    </tr>\n",
              "    <tr>\n",
              "      <th>6</th>\n",
              "      <td>7</td>\n",
              "      <td>หนึ่งในร้านราเมนที่คนรักราเมนคิดถึง โดยเฉพาะ ส...</td>\n",
              "      <td>ราเมน,คนรัก,ราเมน,คิดถึง,โดยเฉพาะ,สึ,เค,เมน,แถ...</td>\n",
              "      <td>2</td>\n",
              "      <td>0.999585</td>\n",
              "      <td>user experiances</td>\n",
              "      <td>5</td>\n",
              "    </tr>\n",
              "    <tr>\n",
              "      <th>7</th>\n",
              "      <td>8</td>\n",
              "      <td>ราเมนร้านดังจากโตเกียว\\n\\nจำได้ว่าตอนร้านเปิดใ...</td>\n",
              "      <td>ราเมน,โตเกียว,จำได้,ตอน,รอ,คิว,เมนู,signature,...</td>\n",
              "      <td>2</td>\n",
              "      <td>0.999463</td>\n",
              "      <td>user experiances</td>\n",
              "      <td>4</td>\n",
              "    </tr>\n",
              "    <tr>\n",
              "      <th>8</th>\n",
              "      <td>9</td>\n",
              "      <td>\\nได้ยินชื่อเสียงของราเมนร้านนี้จากหลายๆท่านใน...</td>\n",
              "      <td>ได้ยิน,ชื่อเสียง,ราเมน,ท่าน,วงใน,อันดับ,เว็บ,t...</td>\n",
              "      <td>1</td>\n",
              "      <td>0.999256</td>\n",
              "      <td>ramen lover</td>\n",
              "      <td>3</td>\n",
              "    </tr>\n",
              "    <tr>\n",
              "      <th>9</th>\n",
              "      <td>10</td>\n",
              "      <td>คิวยังยาวอยู่มั้ยคะ เห็นคิวเยอะคนรอนานมาก กลัว...</td>\n",
              "      <td>คิว,คิว,คน,รอ,กลัว,รอ,เก,อ</td>\n",
              "      <td>0</td>\n",
              "      <td>0.993173</td>\n",
              "      <td>foodie review</td>\n",
              "      <td>3</td>\n",
              "    </tr>\n",
              "    <tr>\n",
              "      <th>10</th>\n",
              "      <td>11</td>\n",
              "      <td>เห็นสีของหมูชมพู๊ชมพูค่ะ ไม่กล้ากิน</td>\n",
              "      <td>สี,หมู,ชม,พู๊,ชมพู,กล้า,กิน</td>\n",
              "      <td>1</td>\n",
              "      <td>0.990866</td>\n",
              "      <td>ramen lover</td>\n",
              "      <td>3</td>\n",
              "    </tr>\n",
              "    <tr>\n",
              "      <th>11</th>\n",
              "      <td>12</td>\n",
              "      <td>จุดเด่นของร้านคือ เส้น Homemade และน้ำซุปสูตรเ...</td>\n",
              "      <td>จุดเด่น,เส้น,Homemade,น้ำ,ซุป,สูตร,แน่นอน,ลอง,...</td>\n",
              "      <td>0</td>\n",
              "      <td>0.999792</td>\n",
              "      <td>foodie review</td>\n",
              "      <td>5</td>\n",
              "    </tr>\n",
              "    <tr>\n",
              "      <th>12</th>\n",
              "      <td>13</td>\n",
              "      <td>Ramen เจ้าดัง แต่ยังไม่ค่อยปังเท่าไร\\nร้านนี้ ...</td>\n",
              "      <td>Ramen,เจ้า,ปัง,เมนู,ราเมน,หลัก,ลอง,สั่ง,tsukem...</td>\n",
              "      <td>1</td>\n",
              "      <td>0.999230</td>\n",
              "      <td>ramen lover</td>\n",
              "      <td>3</td>\n",
              "    </tr>\n",
              "    <tr>\n",
              "      <th>13</th>\n",
              "      <td>14</td>\n",
              "      <td>รสชาติญี่ปุ่นๆแท้ \\nร้านราเมนชื่อดังจากญี่ปุ่น...</td>\n",
              "      <td>รสชาติ,ญี่ปุ่น,ราเมน,ชื่อดัง,ญี่ปุ่น,ทำการบ้าน...</td>\n",
              "      <td>1</td>\n",
              "      <td>0.999510</td>\n",
              "      <td>ramen lover</td>\n",
              "      <td>3</td>\n",
              "    </tr>\n",
              "    <tr>\n",
              "      <th>14</th>\n",
              "      <td>15</td>\n",
              "      <td>ไม่ค่อยประทับใจค่ะครั้งนี้ แอบผิดหวัง:(\\n‘Meny...</td>\n",
              "      <td>ประทับใจ,แอบ,ผิดหวัง,:(,Menya,Itto,เอราวัณ,ราเ...</td>\n",
              "      <td>0</td>\n",
              "      <td>0.999772</td>\n",
              "      <td>foodie review</td>\n",
              "      <td>2</td>\n",
              "    </tr>\n",
              "    <tr>\n",
              "      <th>15</th>\n",
              "      <td>16</td>\n",
              "      <td>คุณภาพตกจนน่ากลัว\\nราคาต่อหัว: 251 - 500 บาท\\n...</td>\n",
              "      <td>คุณภาพ,ตก,น่ากลัว,ราคา,เมนู,เด็ด,Tsukemen,Nood...</td>\n",
              "      <td>2</td>\n",
              "      <td>0.999117</td>\n",
              "      <td>user experiances</td>\n",
              "      <td>1</td>\n",
              "    </tr>\n",
              "    <tr>\n",
              "      <th>16</th>\n",
              "      <td>17</td>\n",
              "      <td>เค็มมากกกกกกกกกกกก ทาน Chashu shio ramen เค็มม...</td>\n",
              "      <td>เค็ม,กก,กก,กก,กก,กก,กก,ทาน,Chashu,shio,ramen,เ...</td>\n",
              "      <td>2</td>\n",
              "      <td>0.997780</td>\n",
              "      <td>user experiances</td>\n",
              "      <td>3</td>\n",
              "    </tr>\n",
              "    <tr>\n",
              "      <th>17</th>\n",
              "      <td>18</td>\n",
              "      <td>\\nร้านนี้เป็นร้านราเมนเจ้าดังมาก เค้าบอกกันว่า...</td>\n",
              "      <td>ราเมน,เจ้า,เค้า,ราเมน,อันดับ,โตเกียว,🇯🇵,สาขา,ก...</td>\n",
              "      <td>2</td>\n",
              "      <td>0.999210</td>\n",
              "      <td>user experiances</td>\n",
              "      <td>3</td>\n",
              "    </tr>\n",
              "    <tr>\n",
              "      <th>18</th>\n",
              "      <td>19</td>\n",
              "      <td>เส้นสึเคเมนเหนียวนุ่มอร่อยกับซุปไก่รสชาติเข้มข...</td>\n",
              "      <td>เส้น,สึ,เค,เมน,เหนียว,นุ่ม,อร่อย,ซุป,ไก่,รสชาต...</td>\n",
              "      <td>2</td>\n",
              "      <td>0.999739</td>\n",
              "      <td>user experiances</td>\n",
              "      <td>4</td>\n",
              "    </tr>\n",
              "    <tr>\n",
              "      <th>19</th>\n",
              "      <td>20</td>\n",
              "      <td>กลับไปซ้ำแน่นอน\\nร้านราเมงชื่อดัง ต้องห้ามพลาด...</td>\n",
              "      <td>ซ้ำ,แน่นอน,ราเมง,ชื่อดัง,ต้องห้าม,พลาด,ปกติ,คน...</td>\n",
              "      <td>0</td>\n",
              "      <td>0.999125</td>\n",
              "      <td>foodie review</td>\n",
              "      <td>5</td>\n",
              "    </tr>\n",
              "    <tr>\n",
              "      <th>20</th>\n",
              "      <td>21</td>\n",
              "      <td>ซุปดี เส้นใช้ได้ แต่ชาชูยังไม่โดนนะจ๊ะ\\nเมนูเด...</td>\n",
              "      <td>ซุป,ดี,เส้น,ใช้ได้,ชาชู,โดน,นะจ๊ะ,เมนู,เด็ด,Ch...</td>\n",
              "      <td>0</td>\n",
              "      <td>0.999579</td>\n",
              "      <td>foodie review</td>\n",
              "      <td>3</td>\n",
              "    </tr>\n",
              "    <tr>\n",
              "      <th>21</th>\n",
              "      <td>22</td>\n",
              "      <td>Ramen ที่อยากลองมานาน\\nเห็นใครๆ ก็รีวิวร้านราเ...</td>\n",
              "      <td>Ramen,ลอง,รีวิว,ราเมน,เดือน,บังเอิญ,บูท,พารากอ...</td>\n",
              "      <td>1</td>\n",
              "      <td>0.998922</td>\n",
              "      <td>ramen lover</td>\n",
              "      <td>2</td>\n",
              "    </tr>\n",
              "    <tr>\n",
              "      <th>22</th>\n",
              "      <td>23</td>\n",
              "      <td>ราเมงอร่อย สะอาด</td>\n",
              "      <td>ราเมง,อร่อย,สะอาด</td>\n",
              "      <td>0</td>\n",
              "      <td>0.011274</td>\n",
              "      <td>foodie review</td>\n",
              "      <td>5</td>\n",
              "    </tr>\n",
              "    <tr>\n",
              "      <th>23</th>\n",
              "      <td>24</td>\n",
              "      <td>เส้นจะมีความแข็งมากกว่าที่อื่น รสชาติจะออกไปทา...</td>\n",
              "      <td>เส้น,ความแข็ง,ที่อื่น,รสชาติ,ทาน,เค็ม</td>\n",
              "      <td>0</td>\n",
              "      <td>0.990930</td>\n",
              "      <td>foodie review</td>\n",
              "      <td>3</td>\n",
              "    </tr>\n",
              "    <tr>\n",
              "      <th>24</th>\n",
              "      <td>25</td>\n",
              "      <td>เมนู: ShioRamen, ไข่มะตูม\\nเส้นเหนียวนุ่ม รสชา...</td>\n",
              "      <td>เมนู,ShioRamen,,,ไข่,มะตูม,เส้น,เหนียว,นุ่ม,รส...</td>\n",
              "      <td>1</td>\n",
              "      <td>0.997068</td>\n",
              "      <td>ramen lover</td>\n",
              "      <td>4</td>\n",
              "    </tr>\n",
              "    <tr>\n",
              "      <th>25</th>\n",
              "      <td>26</td>\n",
              "      <td>Shio Ramen เข้มข้นด้วยรสไก่\\nวันก่อนมีธุระแถว ...</td>\n",
              "      <td>Shio,Ramen,เข้มข้น,รส,ไก่,วันก่อน,มีธุระ,แถว,E...</td>\n",
              "      <td>0</td>\n",
              "      <td>0.998897</td>\n",
              "      <td>foodie review</td>\n",
              "      <td>3</td>\n",
              "    </tr>\n",
              "    <tr>\n",
              "      <th>26</th>\n",
              "      <td>27</td>\n",
              "      <td>ซุปข้น (ทรัพย์จาง)\\nมาทานเป็นครั้งที่2 และลองท...</td>\n",
              "      <td>ซุป,ข้น,ทรัพย์,จาง,ทาน,ลอง,ทาน,ราเมง,ไปดู,สั่ง...</td>\n",
              "      <td>0</td>\n",
              "      <td>0.998960</td>\n",
              "      <td>foodie review</td>\n",
              "      <td>3</td>\n",
              "    </tr>\n",
              "    <tr>\n",
              "      <th>27</th>\n",
              "      <td>28</td>\n",
              "      <td>ราเมนซุปไก่ รสชาติดีใช้ได้\\nร้านอยู่ชั้นใต้ดิน...</td>\n",
              "      <td>ราเมน,ซุป,ไก่,รสชาติ,ดี,ใช้ได้,ชั้นใต้ดิน,เอรา...</td>\n",
              "      <td>1</td>\n",
              "      <td>0.998757</td>\n",
              "      <td>ramen lover</td>\n",
              "      <td>4</td>\n",
              "    </tr>\n",
              "    <tr>\n",
              "      <th>28</th>\n",
              "      <td>29</td>\n",
              "      <td>อร่อยสมคำร่ำลือ\\nรีบไปจัด หลังจากที่พี่หยีคอนเ...</td>\n",
              "      <td>อร่อย,สม,ร่ำ,ลือ,รีบ,หลังจากที่,พี่,หยี,คอนเฟิ...</td>\n",
              "      <td>2</td>\n",
              "      <td>0.998571</td>\n",
              "      <td>user experiances</td>\n",
              "      <td>5</td>\n",
              "    </tr>\n",
              "    <tr>\n",
              "      <th>29</th>\n",
              "      <td>30</td>\n",
              "      <td>ร้านราเม็งชื่อดังจากญีปุ่่นมาเปิดสาขาควรลอง\\nร...</td>\n",
              "      <td>ราเม็ง,ชื่อดัง,ญีปุ่่น,สาขา,ลอง,ราคา,Menya,Itt...</td>\n",
              "      <td>0</td>\n",
              "      <td>0.998960</td>\n",
              "      <td>foodie review</td>\n",
              "      <td>5</td>\n",
              "    </tr>\n",
              "  </tbody>\n",
              "</table>\n",
              "</div>\n",
              "    <div class=\"colab-df-buttons\">\n",
              "\n",
              "  <div class=\"colab-df-container\">\n",
              "    <button class=\"colab-df-convert\" onclick=\"convertToInteractive('df-76522387-0b38-4e5c-ae74-d03f700170c7')\"\n",
              "            title=\"Convert this dataframe to an interactive table.\"\n",
              "            style=\"display:none;\">\n",
              "\n",
              "  <svg xmlns=\"http://www.w3.org/2000/svg\" height=\"24px\" viewBox=\"0 -960 960 960\">\n",
              "    <path d=\"M120-120v-720h720v720H120Zm60-500h600v-160H180v160Zm220 220h160v-160H400v160Zm0 220h160v-160H400v160ZM180-400h160v-160H180v160Zm440 0h160v-160H620v160ZM180-180h160v-160H180v160Zm440 0h160v-160H620v160Z\"/>\n",
              "  </svg>\n",
              "    </button>\n",
              "\n",
              "  <style>\n",
              "    .colab-df-container {\n",
              "      display:flex;\n",
              "      gap: 12px;\n",
              "    }\n",
              "\n",
              "    .colab-df-convert {\n",
              "      background-color: #E8F0FE;\n",
              "      border: none;\n",
              "      border-radius: 50%;\n",
              "      cursor: pointer;\n",
              "      display: none;\n",
              "      fill: #1967D2;\n",
              "      height: 32px;\n",
              "      padding: 0 0 0 0;\n",
              "      width: 32px;\n",
              "    }\n",
              "\n",
              "    .colab-df-convert:hover {\n",
              "      background-color: #E2EBFA;\n",
              "      box-shadow: 0px 1px 2px rgba(60, 64, 67, 0.3), 0px 1px 3px 1px rgba(60, 64, 67, 0.15);\n",
              "      fill: #174EA6;\n",
              "    }\n",
              "\n",
              "    .colab-df-buttons div {\n",
              "      margin-bottom: 4px;\n",
              "    }\n",
              "\n",
              "    [theme=dark] .colab-df-convert {\n",
              "      background-color: #3B4455;\n",
              "      fill: #D2E3FC;\n",
              "    }\n",
              "\n",
              "    [theme=dark] .colab-df-convert:hover {\n",
              "      background-color: #434B5C;\n",
              "      box-shadow: 0px 1px 3px 1px rgba(0, 0, 0, 0.15);\n",
              "      filter: drop-shadow(0px 1px 2px rgba(0, 0, 0, 0.3));\n",
              "      fill: #FFFFFF;\n",
              "    }\n",
              "  </style>\n",
              "\n",
              "    <script>\n",
              "      const buttonEl =\n",
              "        document.querySelector('#df-76522387-0b38-4e5c-ae74-d03f700170c7 button.colab-df-convert');\n",
              "      buttonEl.style.display =\n",
              "        google.colab.kernel.accessAllowed ? 'block' : 'none';\n",
              "\n",
              "      async function convertToInteractive(key) {\n",
              "        const element = document.querySelector('#df-76522387-0b38-4e5c-ae74-d03f700170c7');\n",
              "        const dataTable =\n",
              "          await google.colab.kernel.invokeFunction('convertToInteractive',\n",
              "                                                    [key], {});\n",
              "        if (!dataTable) return;\n",
              "\n",
              "        const docLinkHtml = 'Like what you see? Visit the ' +\n",
              "          '<a target=\"_blank\" href=https://colab.research.google.com/notebooks/data_table.ipynb>data table notebook</a>'\n",
              "          + ' to learn more about interactive tables.';\n",
              "        element.innerHTML = '';\n",
              "        dataTable['output_type'] = 'display_data';\n",
              "        await google.colab.output.renderOutput(dataTable, element);\n",
              "        const docLink = document.createElement('div');\n",
              "        docLink.innerHTML = docLinkHtml;\n",
              "        element.appendChild(docLink);\n",
              "      }\n",
              "    </script>\n",
              "  </div>\n",
              "\n",
              "\n",
              "<div id=\"df-4530d45c-bad5-433e-8b2d-8739d3273e1b\">\n",
              "  <button class=\"colab-df-quickchart\" onclick=\"quickchart('df-4530d45c-bad5-433e-8b2d-8739d3273e1b')\"\n",
              "            title=\"Suggest charts.\"\n",
              "            style=\"display:none;\">\n",
              "\n",
              "<svg xmlns=\"http://www.w3.org/2000/svg\" height=\"24px\"viewBox=\"0 0 24 24\"\n",
              "     width=\"24px\">\n",
              "    <g>\n",
              "        <path d=\"M19 3H5c-1.1 0-2 .9-2 2v14c0 1.1.9 2 2 2h14c1.1 0 2-.9 2-2V5c0-1.1-.9-2-2-2zM9 17H7v-7h2v7zm4 0h-2V7h2v10zm4 0h-2v-4h2v4z\"/>\n",
              "    </g>\n",
              "</svg>\n",
              "  </button>\n",
              "\n",
              "<style>\n",
              "  .colab-df-quickchart {\n",
              "    background-color: #E8F0FE;\n",
              "    border: none;\n",
              "    border-radius: 50%;\n",
              "    cursor: pointer;\n",
              "    display: none;\n",
              "    fill: #1967D2;\n",
              "    height: 32px;\n",
              "    padding: 0 0 0 0;\n",
              "    width: 32px;\n",
              "  }\n",
              "\n",
              "  .colab-df-quickchart:hover {\n",
              "    background-color: #E2EBFA;\n",
              "    box-shadow: 0px 1px 2px rgba(60, 64, 67, 0.3), 0px 1px 3px 1px rgba(60, 64, 67, 0.15);\n",
              "    fill: #174EA6;\n",
              "  }\n",
              "\n",
              "  [theme=dark] .colab-df-quickchart {\n",
              "    background-color: #3B4455;\n",
              "    fill: #D2E3FC;\n",
              "  }\n",
              "\n",
              "  [theme=dark] .colab-df-quickchart:hover {\n",
              "    background-color: #434B5C;\n",
              "    box-shadow: 0px 1px 3px 1px rgba(0, 0, 0, 0.15);\n",
              "    filter: drop-shadow(0px 1px 2px rgba(0, 0, 0, 0.3));\n",
              "    fill: #FFFFFF;\n",
              "  }\n",
              "</style>\n",
              "\n",
              "  <script>\n",
              "    async function quickchart(key) {\n",
              "      const charts = await google.colab.kernel.invokeFunction(\n",
              "          'suggestCharts', [key], {});\n",
              "    }\n",
              "    (() => {\n",
              "      let quickchartButtonEl =\n",
              "        document.querySelector('#df-4530d45c-bad5-433e-8b2d-8739d3273e1b button');\n",
              "      quickchartButtonEl.style.display =\n",
              "        google.colab.kernel.accessAllowed ? 'block' : 'none';\n",
              "    })();\n",
              "  </script>\n",
              "</div>\n",
              "    </div>\n",
              "  </div>\n"
            ]
          },
          "metadata": {},
          "execution_count": 81
        }
      ]
    },
    {
      "cell_type": "markdown",
      "source": [
        "## Topic type wordcloud"
      ],
      "metadata": {
        "id": "vZn_xCPyAQ6v"
      }
    },
    {
      "cell_type": "code",
      "source": [
        "import matplotlib.pyplot as plt\n",
        "import numpy as np\n",
        "from wordcloud import WordCloud\n",
        "from PIL import Image"
      ],
      "metadata": {
        "id": "M1BjnSgpAblw"
      },
      "execution_count": 110,
      "outputs": []
    },
    {
      "cell_type": "code",
      "source": [
        "regexp = r\"[ก-๙a-zA-Z']+\""
      ],
      "metadata": {
        "id": "H0xhuLAvd0uY"
      },
      "execution_count": 122,
      "outputs": []
    },
    {
      "cell_type": "code",
      "source": [
        "# font path\n",
        "#fpath = 'https://github.com/khemthung/MADT8101-Customer-analytics/blob/1543a27850501d5057dbaa24cc612e9dd176f1b0/Homework%2006%20-%20Social%20Network%20Analytic%20%26%20Social%20Voice%20Analysis/content/SukhumvitSet-Light.ttf'\n",
        "fpath = '/content/SukhumvitSet-Light.ttf'"
      ],
      "metadata": {
        "id": "zgXF3Am7T9e1"
      },
      "execution_count": 101,
      "outputs": []
    },
    {
      "cell_type": "code",
      "source": [
        "#mask\n",
        "x, y = np.ogrid[:500, :500]\n",
        "mask = (x - 150) ** 2 + (y - 150) ** 2 > 130 ** 2\n",
        "mask = 255 * mask.astype(int)\n",
        "# mask = np.array(Image.open(\"/content/mask.png\"))"
      ],
      "metadata": {
        "id": "nVAO2yGAavAm"
      },
      "execution_count": 119,
      "outputs": []
    },
    {
      "cell_type": "code",
      "source": [
        "long_string = ','.join(list(df_tk['review_tokenized'].values))\n",
        "wordcloud = WordCloud(font_path=fpath,background_color=\"white\", max_words=2000, mask=mask, collocations=False,regexp=regexp,margin=2)\n",
        "                      # contour_width=3, contour_color='steelblue'\n",
        "                      #,width=2400,height=1000\n",
        "wordcloud.generate(long_string)"
      ],
      "metadata": {
        "colab": {
          "base_uri": "https://localhost:8080/"
        },
        "id": "o_nkNzS5Sr6X",
        "outputId": "831f7604-a461-43b4-d3b8-f6dd0e9e125f"
      },
      "execution_count": 123,
      "outputs": [
        {
          "output_type": "execute_result",
          "data": {
            "text/plain": [
              "<wordcloud.wordcloud.WordCloud at 0x7ec9b0850670>"
            ]
          },
          "metadata": {},
          "execution_count": 123
        }
      ]
    },
    {
      "cell_type": "code",
      "source": [
        "wordcloud.to_image()"
      ],
      "metadata": {
        "colab": {
          "base_uri": "https://localhost:8080/",
          "height": 517
        },
        "id": "2wEupXOmS5ms",
        "outputId": "6ff5536d-72bf-4482-eecc-76b5b250caf6"
      },
      "execution_count": 125,
      "outputs": [
        {
          "output_type": "execute_result",
          "data": {
            "text/plain": [
              "<PIL.Image.Image image mode=RGB size=500x500>"
            ],
            "image/png": "[encoded data removed]"
          },
          "metadata": {},
          "execution_count": 125
        }
      ]
    },
    {
      "cell_type": "code",
      "source": [],
      "metadata": {
        "id": "7aedwpx4eLH8"
      },
      "execution_count": null,
      "outputs": []
    }
  ]
}